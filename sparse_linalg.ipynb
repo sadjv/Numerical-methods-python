{
 "cells": [
  {
   "cell_type": "markdown",
   "metadata": {},
   "source": [
    "# Sparse Linear Algebra\n",
    "\n",
    "So far, we have seen how sparse matrices and linear operators can be used to speed up basic matrix-vector and matrix-matrix operations, and decrease the memory footprint of the representation of a linear map.\n",
    "\n",
    "Just as there are special data types for sparse and structured matrices, there are specialized linear algebra routines which allow you to take advantage of sparsity and fast matrix-vector products.\n",
    "\n",
    "Routines for sparse linear algebra are found in `scipy.sparse.linalg`, which we'll import as `sla`"
   ]
  },
  {
   "cell_type": "code",
   "execution_count": 1,
   "metadata": {},
   "outputs": [
    {
     "name": "stdout",
     "output_type": "stream",
     "text": [
      "Populating the interactive namespace from numpy and matplotlib\n"
     ]
    }
   ],
   "source": [
    "%pylab inline\n",
    "import scipy.sparse as sparse\n",
    "import scipy.sparse.linalg as sla"
   ]
  },
  {
   "cell_type": "markdown",
   "metadata": {},
   "source": [
    "## Sparse Direct Methods\n",
    "\n",
    "This typically refers to producing a factorization of a sparse matrix for use in solving linear systems.\n",
    "\n",
    "The thing to keep in mind is that many factorizations will generally be dense, even if the original matrix is sparse.  E.g. eigenvalue decompositions, QR decomposition, SVD, etc.  This means that if we compute a factorization, we are going to lose all the advantages we had from sparsity.  \n",
    "\n",
    "What we really want is a factorization where if `A` is sparse, the terms in the factorization are also sparse.  The factorization where this is easiest to achieve is the LU decomposition.  In general, the `L` and `U` terms will be more dense than `A`, and sometimes much more dense.  However, we can seek a permuted version of the matrix `A` which will minimize the amount of \"fill-in\" which occurs.  This is often done using \"nested disection\" algorithm, which is outside the scope of this course.  If you ever need to do this explicitly, the [METIS package](http://glaros.dtc.umn.edu/gkhome/metis/metis/overview) is commonly used.\n",
    "\n",
    "We'll just use the function [`sla.splu`](https://docs.scipy.org/doc/scipy/reference/generated/scipy.sparse.linalg.splu.html#scipy.sparse.linalg.splu) (SParse LU) at a high level, which produces a factorization object that can be used to solve linear systems."
   ]
  },
  {
   "cell_type": "code",
   "execution_count": 2,
   "metadata": {},
   "outputs": [
    {
     "data": {
      "image/png": "[encoded data removed]",
      "text/plain": [
       "<Figure size 432x288 with 1 Axes>"
      ]
     },
     "metadata": {
      "needs_background": "light"
     },
     "output_type": "display_data"
    }
   ],
   "source": [
    "n = 100\n",
    "A = sparse.random(n, n, 0.01) + sparse.eye(n)\n",
    "plt.spy(A)\n",
    "plt.show()"
   ]
  },
  {
   "cell_type": "code",
   "execution_count": 3,
   "metadata": {},
   "outputs": [
    {
     "data": {
      "text/plain": [
       "<SuperLU at 0x7efc730dd810>"
      ]
     },
     "execution_count": 3,
     "metadata": {},
     "output_type": "execute_result"
    }
   ],
   "source": [
    "A = A.tocsc() # need to convert to CSC form first\n",
    "LU = sla.splu(A)\n",
    "LU"
   ]
  },
  {
   "cell_type": "markdown",
   "metadata": {},
   "source": [
    "The resulting object stores the factors necessary to compute `A = PLUQ` (`P` permutes rows, and `Q` permutes columns).  It is computed using the [SuperLU library](https://portal.nersc.gov/project/sparse/superlu/).  Typically, you will just use the `solve` method on this object."
   ]
  },
  {
   "cell_type": "code",
   "execution_count": 4,
   "metadata": {},
   "outputs": [
    {
     "name": "stdout",
     "output_type": "stream",
     "text": [
      "3.441942719064266e-15\n"
     ]
    }
   ],
   "source": [
    "x = np.random.randn(n)\n",
    "b = A @ x\n",
    "\n",
    "x2 = LU.solve(b)\n",
    "print(np.linalg.norm(x2 - x))"
   ]
  },
  {
   "cell_type": "markdown",
   "metadata": {},
   "source": [
    "you can also use the `sla.spsolve` function, which wraps this factorization."
   ]
  },
  {
   "cell_type": "code",
   "execution_count": 5,
   "metadata": {},
   "outputs": [
    {
     "name": "stdout",
     "output_type": "stream",
     "text": [
      "3.441942719064266e-15\n"
     ]
    }
   ],
   "source": [
    "x2 = sla.spsolve(A, b)\n",
    "print(np.linalg.norm(x2 - x))"
   ]
  },
  {
   "cell_type": "markdown",
   "metadata": {},
   "source": [
    "## Sparse Iterative Methods\n",
    "\n",
    "Sparse iterative methods are another class of methods you can use for solving linear systems built on [Krylov subspaces](https://en.wikipedia.org/wiki/Krylov_subspace).  They only require matrix-vector products, and are ideally used with sparse matrices and fast linear operators.  You can typically learn the theory behind these methods in a numerical linear algebra course - we'll just talk about how to use them. \n",
    "\n",
    "All these methods are meant to solve linear systems: find `x` so that `A @ x = b`, or least squares problems minimizing `norm(A @ x - b)`\n",
    "\n",
    "You can find a list of options in the [documentation for `scipy.sparse.linalg`](https://docs.scipy.org/doc/scipy/reference/sparse.linalg.html#solving-linear-problems).  Here are some common options:\n",
    "\n",
    "* Conjugate Gradient: `sla.cg` for `A` SPD\n",
    "* MINRES: `sla.minres` for `A` symmetric\n",
    "* GMRES: `sla.gmres` for general square `A`\n",
    "* LSQR: `sla.lsqr` for solving least squares problems\n",
    "\n",
    "For example, we can use `gmres` with the same matrix we used for `splu`:"
   ]
  },
  {
   "cell_type": "code",
   "execution_count": 7,
   "metadata": {},
   "outputs": [
    {
     "name": "stdout",
     "output_type": "stream",
     "text": [
      "1.0917547437926786e-14\n"
     ]
    }
   ],
   "source": [
    "x2, exit = sla.gmres(A, b, tol=1e-8) # exit code: 0 if successful\n",
    "print(np.linalg.norm(x2 - x))"
   ]
  },
  {
   "cell_type": "code",
   "execution_count": 8,
   "metadata": {},
   "outputs": [
    {
     "name": "stdout",
     "output_type": "stream",
     "text": [
      "GMRES in 0.003888368606567383 sec.\n",
      "spsolve in 0.002525806427001953 sec.\n"
     ]
    }
   ],
   "source": [
    "import time\n",
    "x2 = np.empty_like(x)\n",
    "\n",
    "t0 = time.time()\n",
    "x2, exit = sla.gmres(A, b)\n",
    "t1 = time.time()\n",
    "print(\"GMRES in {} sec.\".format(t1 - t0))\n",
    "\n",
    "t0 = time.time()\n",
    "x2 = sla.spsolve(A, b)\n",
    "t1 = time.time()\n",
    "print(\"spsolve in {} sec.\".format(t1 - t0))"
   ]
  },
  {
   "cell_type": "markdown",
   "metadata": {},
   "source": [
    "### Sparse Direct vs. Iterative Methods\n",
    "\n",
    "There are a couple of trade offs to consider when deciding whether to use sparse direct or iterative algorithms.\n",
    "\n",
    "1.  Are you going to be solving many linear systems with the same matrix `A`?  If so, you can produce a single factorization object using `splu`, and use it to solve many right-hand sides.  Sparse direct probably makes more sense.\n",
    "2. Are you solving a single linear system?  If so, then a single call to an iterative method probably makes mores sense.\n",
    "3. Are you using a fast linear operator that could be expressed as a dense matrix (e.g. sparse plus low-rank)?  Alternatively, would the sparse LU decomposition turn dense because of fill-in?  If so, then iterative methods probably make more sense.\n",
    "4. Do you have a really good preconditioner (see below)?  Then iterative methods probably make more sense."
   ]
  },
  {
   "cell_type": "markdown",
   "metadata": {},
   "source": [
    "### Preconditioning\n",
    "\n",
    "The speed/effectiveness of iterative methods is often dependent on the existence of a good preconditioner. A preconditioner `M` for a matrix `A` is an \"approximate inverse\" i.e. `M @ A` is close to the identity.  Note if we had an exact inverse, we've solved our problem already.  What we want is to have a matrix `M` which is fast to apply (i.e. also sparse like `A`), which generally isn't possible with an exact inverse.\n",
    "\n",
    "Finding a good preconditioner is a huge field of research, and can be very domain-dependent.  A general-purpose method to obtain a preconditioner is to use an Incomplete LU decomposition (this is an LU factorization that stops when the fill-in gets too large). You can obtain one using `sla.spilu`."
   ]
  },
  {
   "cell_type": "code",
   "execution_count": 9,
   "metadata": {},
   "outputs": [],
   "source": [
    "ILUfact = sla.spilu(A)"
   ]
  },
  {
   "cell_type": "markdown",
   "metadata": {},
   "source": [
    "You can construct a preconditioner using a `LinearOperator` around the ILU object's solve method"
   ]
  },
  {
   "cell_type": "code",
   "execution_count": 10,
   "metadata": {},
   "outputs": [],
   "source": [
    "M = sla.LinearOperator(\n",
    "    shape = A.shape,\n",
    "    matvec = lambda b: ILUfact.solve(b)\n",
    ")"
   ]
  },
  {
   "cell_type": "code",
   "execution_count": 11,
   "metadata": {},
   "outputs": [
    {
     "name": "stdout",
     "output_type": "stream",
     "text": [
      "3.9192445329969655e-15\n"
     ]
    }
   ],
   "source": [
    "x2, exit = sla.gmres(A, b, M=M) # exit code: 0 if successful\n",
    "print(np.linalg.norm(x2 - x))"
   ]
  },
  {
   "cell_type": "code",
   "execution_count": 12,
   "metadata": {},
   "outputs": [
    {
     "name": "stdout",
     "output_type": "stream",
     "text": [
      "GMRES in 0.0025072097778320312 sec.\n",
      "0.0002468036057768161\n",
      "preconditioned GMRES in 0.001953125 sec.\n",
      "3.9192445329969655e-15\n"
     ]
    }
   ],
   "source": [
    "t0 = time.time()\n",
    "x2, exit = sla.gmres(A, b)\n",
    "t1 = time.time()\n",
    "print(\"GMRES in {} sec.\".format(t1 - t0))\n",
    "print(np.linalg.norm(x2 - x))\n",
    "\n",
    "t0 = time.time()\n",
    "x2, exit = sla.gmres(A, b, M=M)\n",
    "t1 = time.time()\n",
    "print(\"preconditioned GMRES in {} sec.\".format(t1 - t0))\n",
    "print(np.linalg.norm(x2 - x))"
   ]
  },
  {
   "cell_type": "markdown",
   "metadata": {},
   "source": [
    "We get a higher-precision answer in about the same amount of time."
   ]
  },
  {
   "cell_type": "markdown",
   "metadata": {},
   "source": [
    "## Eigenvalues and Eigenvectors\n",
    "\n",
    "Computing a full eigenvalue decomposition of a sparse matrix or fast linear operator doesn't typically make sense (see the the discussion for sparse direct methods).  However, there are a lot of situations in which we want to compute the eigenvalue-eigenvector pairs for a handful of the largest (or smallest) eigenvalues.  \n",
    "\n",
    "`scipy.sparse.linalg` wraps [ARPACK (ARnoldi PACKage)](https://www.caam.rice.edu/software/ARPACK/), which uses Krylov subspace techniques (like the iterative methods) to compute eigenvalues/eigenvectors using matrix-vector multiplications.  The relevant methods are `sla.eigs` (for general square matrices) and `sla.eigsh` (for symmetric/Hermitian matrices).  There is also a `sla.svds` function for the SVD.\n",
    "\n",
    "Let's look at an example for a linear operator which acts as the matrix of all ones."
   ]
  },
  {
   "cell_type": "code",
   "execution_count": 13,
   "metadata": {},
   "outputs": [],
   "source": [
    "# works on square matrices\n",
    "Afun = lambda X : np.sum(X, axis=0).reshape(1,-1).repeat(X.shape[0], axis=0)\n",
    "\n",
    "m = 10 # linear operator of size 10\n",
    "\n",
    "A = sla.LinearOperator(\n",
    "    shape   = (m,m),\n",
    "    matvec  = Afun,\n",
    "    rmatvec = Afun,\n",
    "    matmat  = Afun,\n",
    "    rmatmat = Afun,\n",
    "    dtype=np.float   \n",
    ")"
   ]
  },
  {
   "cell_type": "markdown",
   "metadata": {},
   "source": [
    "This operator is Hermitian, so we'll use `eigsh`.  By default, `eigsh` will compute the largest magnitude eigenvalues.  You can change which eigenvalues you're looking for using the `which` keyword argument, and the number of eigenvalues using the `k` argument.  See [the documentation](https://docs.scipy.org/doc/scipy/reference/generated/scipy.sparse.linalg.eigsh.html#scipy.sparse.linalg.eigsh) for details."
   ]
  },
  {
   "cell_type": "code",
   "execution_count": 14,
   "metadata": {},
   "outputs": [],
   "source": [
    "Lam, V = sla.eigsh(A)"
   ]
  },
  {
   "cell_type": "code",
   "execution_count": 15,
   "metadata": {},
   "outputs": [
    {
     "data": {
      "text/plain": [
       "array([-5.86174617e-18, -3.50871500e-32,  2.38837756e-32,  2.87286167e-32,\n",
       "        1.78221859e-15,  1.00000000e+01])"
      ]
     },
     "execution_count": 15,
     "metadata": {},
     "output_type": "execute_result"
    }
   ],
   "source": [
    "Lam"
   ]
  },
  {
   "cell_type": "markdown",
   "metadata": {},
   "source": [
    "we see there is one eigenvalue with a numerically non-zero value (10).  Let's take a look at the eigenvector"
   ]
  },
  {
   "cell_type": "code",
   "execution_count": 16,
   "metadata": {},
   "outputs": [
    {
     "data": {
      "text/plain": [
       "array([-0.31622777, -0.31622777, -0.31622777, -0.31622777, -0.31622777,\n",
       "       -0.31622777, -0.31622777, -0.31622777, -0.31622777, -0.31622777])"
      ]
     },
     "execution_count": 16,
     "metadata": {},
     "output_type": "execute_result"
    }
   ],
   "source": [
    "V[:,-1]"
   ]
  },
  {
   "cell_type": "markdown",
   "metadata": {},
   "source": [
    "this is the vector with constant entries.  This agrees with our understanding of the operator `A`, which can be expressed as the symmetric rank-1 outer product of the vector with 1s in every entry."
   ]
  },
  {
   "cell_type": "markdown",
   "metadata": {},
   "source": [
    "## Randomized Linear Algebra\n",
    "\n",
    "In the past decade or two, randomized linear algebra has matured as a topic with lots of practical applications.  To read about the theory, see the 2009 paper by Halko, Martinsson, and Tropp: [Link](http://users.cms.caltech.edu/~jtropp/papers/HMT11-Finding-Structure-SIREV.pdf).\n",
    "\n",
    "SciPy does not (currently) have built-in functions for randomized linear algebra functionality (some languages like Julia do).  Fortunately, these algorithms are very easy to implement without worrying too much about the theory.\n",
    "\n",
    "For simplicity, we'll assume that `A` is symmetric with distinct eigenvectors, so we can limit the discussion to eigenvectors.  A rank-`k` approximation of `A` is an approximation by a rank-`k` outer product.  We can analyitically obtain the optimal rank-`k` approximation by computing a full eigenvalue decomposition of `A` and set all the eigenvalues outside the largest `k` (in magnitude) to 0.  Again, we don't want to actually compute the full eigenvalue decomposition, so we want an algorithm that does this in some provable way.\n",
    "\n",
    "The basic idea is to get an approximation of the range of an operator `A` by applying it to a bunch of random vectors. That is, we compute `A @ X`, where `X` is a matrix with random entries (we think of every column as a random vector). One way to think about the action of `A` is that it \"rotates\" these random vectors preferentially in the direction of the top eigenvectors, so if we look at the most important subspace of the span of the image  `A @ X` (as measured by the svd), we get a good approximation of the most important eigenspace.\n",
    "\n",
    "Randomized algorithms have probabilistic gurarantees.  The statement is roughly that if entries of `X` are iid sub-Gaussian random variables (you can replace \"sub-Gaussian\" with Gaussian), and if we use `k+p` random vectors (`p` is a small constant), we can get close to the top-`k` dimensional eigenspace *with high probability*.  In this case, *close* depends on something called the spectral gap, and *with high probability* means that in order to **not** be close to the desired subspace you would likely need to keep running computations with different random numbers for millions or billions of years before you would observe the algorithm fail.\n",
    "\n",
    "Let's see how this works in practice:"
   ]
  },
  {
   "cell_type": "code",
   "execution_count": 19,
   "metadata": {},
   "outputs": [],
   "source": [
    "import scipy.linalg as la\n",
    "\n",
    "def random_span_k(A, k, p=10, power=0):\n",
    "    \"\"\"\n",
    "    Compute subspace whose span is close to contaning the top-k eigenspace of A\n",
    "    \n",
    "    p = number of dimensions to pad\n",
    "    power : number of times to run a power iteration on the subspace\n",
    "    \"\"\"\n",
    "    m, n = A.shape\n",
    "        \n",
    "    X = np.random.randn(n, k+p)\n",
    "    Y = A @ X\n",
    "    \n",
    "    U, s, Vt = la.svd(Y, full_matrices=False)\n",
    "    \n",
    "    for i in range(power):\n",
    "        Y = A @ U\n",
    "        U, s, Vt = la.svd(Y, full_matrices=False)\n",
    "    \n",
    "    \n",
    "    return U"
   ]
  },
  {
   "cell_type": "markdown",
   "metadata": {},
   "source": [
    "Let's test this on a diagonal matrix with entries 0 to `n-1` along the main diagonal.  In this case, the eigenvalues are integers, and the eigenvectors are the standard basis vectors."
   ]
  },
  {
   "cell_type": "code",
   "execution_count": 17,
   "metadata": {},
   "outputs": [
    {
     "data": {
      "text/plain": [
       "<100x100 sparse matrix of type '<class 'numpy.int64'>'\n",
       "\twith 100 stored elements (1 diagonals) in DIAgonal format>"
      ]
     },
     "execution_count": 17,
     "metadata": {},
     "output_type": "execute_result"
    }
   ],
   "source": [
    "n = 100\n",
    "D = sparse.dia_matrix((np.arange(n), [0]), shape=(n,n))\n",
    "D"
   ]
  },
  {
   "cell_type": "code",
   "execution_count": 20,
   "metadata": {},
   "outputs": [],
   "source": [
    "k = 5\n",
    "U = random_span_k(D, k)"
   ]
  },
  {
   "cell_type": "code",
   "execution_count": 21,
   "metadata": {},
   "outputs": [
    {
     "data": {
      "text/plain": [
       "array([[1., 0., 0., 0., 0.],\n",
       "       [0., 1., 0., 0., 0.],\n",
       "       [0., 0., 1., 0., 0.],\n",
       "       [0., 0., 0., 1., 0.],\n",
       "       [0., 0., 0., 0., 1.]])"
      ]
     },
     "execution_count": 21,
     "metadata": {},
     "output_type": "execute_result"
    }
   ],
   "source": [
    "lam, V = la.eigh(D.todense())\n",
    "V_true = V[:,-k:]\n",
    "V_true[-k:,:] # should see identity"
   ]
  },
  {
   "cell_type": "markdown",
   "metadata": {},
   "source": [
    "Let's take a look at how well `U` captures each eigenvector.  The distance from this subspace from the `i`th eigenvector is `norm(V[:,i].T*U)`.  Because the eigenvectors are canonical basis vectors, this is just the norm of the `i`th row of `U`"
   ]
  },
  {
   "cell_type": "code",
   "execution_count": 22,
   "metadata": {},
   "outputs": [
    {
     "name": "stdout",
     "output_type": "stream",
     "text": [
      "00 : 1.8174074542116614e-16\n",
      "01 : 0.008308247917654313\n",
      "02 : 0.01583779172312318\n",
      "03 : 0.02199133223616938\n",
      "04 : 0.03215686403644407\n",
      "05 : 0.05395988605654972\n",
      "06 : 0.049369662863996765\n",
      "07 : 0.06247450141903636\n",
      "08 : 0.0750270087203425\n",
      "09 : 0.0665024637156686\n",
      "10 : 0.10463876130154755\n",
      "11 : 0.10584563225492395\n",
      "12 : 0.0836614259566746\n",
      "13 : 0.08988518183976528\n",
      "14 : 0.06958237376859387\n",
      "15 : 0.10076917049700086\n",
      "16 : 0.11510920941835821\n",
      "17 : 0.0997049455545603\n",
      "18 : 0.15006011880868778\n",
      "19 : 0.1564733200847971\n",
      "20 : 0.20051523670789456\n",
      "21 : 0.18526215213968064\n",
      "22 : 0.09597035098238452\n",
      "23 : 0.16640042312884887\n",
      "24 : 0.11709610936879175\n",
      "25 : 0.1980311758642999\n",
      "26 : 0.19754094035276912\n",
      "27 : 0.23708092100849165\n",
      "28 : 0.1672972566639178\n",
      "29 : 0.17978489161740766\n",
      "30 : 0.21126385718054977\n",
      "31 : 0.23538004562101916\n",
      "32 : 0.1972017149685073\n",
      "33 : 0.2818893489805158\n",
      "34 : 0.2868983616722436\n",
      "35 : 0.20254255950816352\n",
      "36 : 0.33311087376556303\n",
      "37 : 0.2546212858318713\n",
      "38 : 0.3867493227868448\n",
      "39 : 0.1774537117073479\n",
      "40 : 0.31444701785919027\n",
      "41 : 0.2763015182785879\n",
      "42 : 0.26445902111370645\n",
      "43 : 0.41714735621067045\n",
      "44 : 0.21430145853039173\n",
      "45 : 0.23180638196380096\n",
      "46 : 0.23784148788428833\n",
      "47 : 0.23469792302474346\n",
      "48 : 0.4047571421296987\n",
      "49 : 0.3298708068234711\n",
      "50 : 0.35702512045796647\n",
      "51 : 0.3483703357151032\n",
      "52 : 0.4576369551828303\n",
      "53 : 0.396312545972614\n",
      "54 : 0.3655015134948102\n",
      "55 : 0.3611771568031403\n",
      "56 : 0.4804408951288229\n",
      "57 : 0.46044880926177173\n",
      "58 : 0.48296908703545893\n",
      "59 : 0.43824608218917377\n",
      "60 : 0.445983734205208\n",
      "61 : 0.4664038516295721\n",
      "62 : 0.3998664080451895\n",
      "63 : 0.4819347022454194\n",
      "64 : 0.31876280943773744\n",
      "65 : 0.4618235118629721\n",
      "66 : 0.4442139723512285\n",
      "67 : 0.43517488239876223\n",
      "68 : 0.33298155559894316\n",
      "69 : 0.44735749021449217\n",
      "70 : 0.5480489777858426\n",
      "71 : 0.46136915111680304\n",
      "72 : 0.4482896664194997\n",
      "73 : 0.47408148908329234\n",
      "74 : 0.4428714390567352\n",
      "75 : 0.5828379890702923\n",
      "76 : 0.6403937908617446\n",
      "77 : 0.6270555046226999\n",
      "78 : 0.5934774018572719\n",
      "79 : 0.611743543220277\n",
      "80 : 0.6690116934942119\n",
      "81 : 0.4600404259734333\n",
      "82 : 0.5709635497278422\n",
      "83 : 0.6155647028758875\n",
      "84 : 0.5716287944772425\n",
      "85 : 0.4934659410806288\n",
      "86 : 0.44885223217327364\n",
      "87 : 0.5753943309029618\n",
      "88 : 0.521635150262732\n",
      "89 : 0.5520746889000999\n",
      "90 : 0.6509508657086588\n",
      "91 : 0.35322109925633355\n",
      "92 : 0.5273373638142262\n",
      "93 : 0.4161359785162897\n",
      "94 : 0.5211409605967563\n",
      "95 : 0.6442563443974035\n",
      "96 : 0.5579201936307289\n",
      "97 : 0.7641608766659472\n",
      "98 : 0.6275907635563397\n",
      "99 : 0.5850433110613003\n"
     ]
    }
   ],
   "source": [
    "for i in range(n):\n",
    "    print(\"{:02d} : {}\".format(i, np.linalg.norm(U[i])))"
   ]
  },
  {
   "cell_type": "markdown",
   "metadata": {},
   "source": [
    "As we see, `U` is closer to the larger eigenvectors, rather than the smaller eigenvectors.\n",
    "\n",
    "We can improve this estimate by running a couple of power iterations on the subspace (the `power` keyword defined above):"
   ]
  },
  {
   "cell_type": "code",
   "execution_count": 23,
   "metadata": {},
   "outputs": [
    {
     "name": "stdout",
     "output_type": "stream",
     "text": [
      "00 : 6.775569653113235e-17\n",
      "01 : 2.1646003384361302e-12\n",
      "02 : 2.0013523893677654e-10\n",
      "03 : 1.1142597577224361e-09\n",
      "04 : 1.1227540776928408e-08\n",
      "05 : 4.2054253464277464e-08\n",
      "06 : 2.114616208760751e-07\n",
      "07 : 2.460679459222424e-07\n",
      "08 : 8.873685615846263e-07\n",
      "09 : 1.3913443498151876e-06\n",
      "10 : 2.421165340289793e-06\n",
      "11 : 3.979554647298699e-06\n",
      "12 : 6.41857938926141e-06\n",
      "13 : 1.1543761390664488e-05\n",
      "14 : 2.731100766873374e-05\n",
      "15 : 2.7726626967990534e-05\n",
      "16 : 3.1195701553365235e-05\n",
      "17 : 6.904986556942565e-05\n",
      "18 : 8.536291810753721e-05\n",
      "19 : 0.00015902740278228195\n",
      "20 : 0.0001221103851929092\n",
      "21 : 0.0004878369912174228\n",
      "22 : 0.0004128833105920418\n",
      "23 : 0.00041216196510521897\n",
      "24 : 0.0003806658301773483\n",
      "25 : 0.000571423288500887\n",
      "26 : 0.0005080815232150743\n",
      "27 : 0.0009336268713902183\n",
      "28 : 0.0020278227123407323\n",
      "29 : 0.0010705319540167454\n",
      "30 : 0.003409663657454305\n",
      "31 : 0.002675250989827795\n",
      "32 : 0.0019776228097191594\n",
      "33 : 0.00670989396507736\n",
      "34 : 0.0033624264528913875\n",
      "35 : 0.004713271652791953\n",
      "36 : 0.005432287944037401\n",
      "37 : 0.01105757593099233\n",
      "38 : 0.011639902023739934\n",
      "39 : 0.008937708010131383\n",
      "40 : 0.010585479470632783\n",
      "41 : 0.011282056105891586\n",
      "42 : 0.011322334089842075\n",
      "43 : 0.011062810261613295\n",
      "44 : 0.0381809106610753\n",
      "45 : 0.013897209483340877\n",
      "46 : 0.03978546700521397\n",
      "47 : 0.02427235272424323\n",
      "48 : 0.026817037824689933\n",
      "49 : 0.02566970370633922\n",
      "50 : 0.05347650930910848\n",
      "51 : 0.06781832958478312\n",
      "52 : 0.05698540581534564\n",
      "53 : 0.0775245437596712\n",
      "54 : 0.0920097583664001\n",
      "55 : 0.094554153856067\n",
      "56 : 0.12675266700347954\n",
      "57 : 0.07699786424931303\n",
      "58 : 0.07530083789399583\n",
      "59 : 0.1180331191691895\n",
      "60 : 0.1319699535262122\n",
      "61 : 0.15450829600788113\n",
      "62 : 0.16526589320592713\n",
      "63 : 0.21364392836443302\n",
      "64 : 0.2673196960431266\n",
      "65 : 0.14151056656428745\n",
      "66 : 0.1839135759670298\n",
      "67 : 0.22332203073487147\n",
      "68 : 0.35924832532770007\n",
      "69 : 0.17396605198209283\n",
      "70 : 0.35453302090771033\n",
      "71 : 0.25383480116123597\n",
      "72 : 0.30195745194090834\n",
      "73 : 0.2136905439474462\n",
      "74 : 0.2627355941113593\n",
      "75 : 0.4116922073109266\n",
      "76 : 0.40069737030359526\n",
      "77 : 0.5835177074188712\n",
      "78 : 0.672303323058627\n",
      "79 : 0.4528711823917997\n",
      "80 : 0.4716621838101964\n",
      "81 : 0.6571605036353498\n",
      "82 : 0.5197782565417302\n",
      "83 : 0.6860311104686504\n",
      "84 : 0.690845528669042\n",
      "85 : 0.7258169754722169\n",
      "86 : 0.8290895262542244\n",
      "87 : 0.6012144228494483\n",
      "88 : 0.7308444393829351\n",
      "89 : 0.7879094990573778\n",
      "90 : 0.8980245415833044\n",
      "91 : 0.8969487400092676\n",
      "92 : 0.7570033738959452\n",
      "93 : 0.8321075857575255\n",
      "94 : 0.9213583373894603\n",
      "95 : 0.9521393170439338\n",
      "96 : 0.8985530273774188\n",
      "97 : 0.9515595577485645\n",
      "98 : 0.9309427887328605\n",
      "99 : 0.9650566553337705\n"
     ]
    }
   ],
   "source": [
    "U = random_span_k(D, k, power=5)\n",
    "for i in range(n):\n",
    "    print(\"{:02d} : {}\".format(i, np.linalg.norm(U[i])))"
   ]
  },
  {
   "cell_type": "markdown",
   "metadata": {},
   "source": [
    "## Exercises\n",
    "\n",
    "Download a couple of test matrices from the UFlorida Sparse Matrix collection [Link](https://sparse.tamu.edu/)\n",
    "For, example, use `mnist_test_norm_10NN` [Link](https://sparse.tamu.edu/ML_Graph/mnist_test_norm_10NN) which would probably be too large to store on your computer as a dense matrix.\n",
    "\n",
    "For each square matrix:\n",
    "1. Solve a random linear system using `splu`\n",
    "2. Solve a random linear system using either `minres` or `gmres` (which one should you use?)\n",
    "3. Compute the largest magnitude eigenvector using `eigs` or `eigsh` (which one should you use?)\n",
    "\n",
    "Find a non-square matrix and\n",
    "1. Solve a random least squares problem using `lsqr`\n",
    "2. Compute the largest singular vectors using `svds`"
   ]
  },
  {
   "cell_type": "code",
   "execution_count": null,
   "metadata": {},
   "outputs": [],
   "source": [
    "## Your code here\n"
   ]
  }
 ],
 "metadata": {
  "kernelspec": {
   "display_name": "Python (pycourse)",
   "language": "python",
   "name": "pycourse"
  },
  "language_info": {
   "codemirror_mode": {
    "name": "ipython",
    "version": 3
   },
   "file_extension": ".py",
   "mimetype": "text/x-python",
   "name": "python",
   "nbconvert_exporter": "python",
   "pygments_lexer": "ipython3",
   "version": "3.8.3"
  }
 },
 "nbformat": 4,
 "nbformat_minor": 4
}
