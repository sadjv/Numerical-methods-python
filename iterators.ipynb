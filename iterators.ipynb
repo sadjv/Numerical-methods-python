{
 "cells": [
  {
   "cell_type": "markdown",
   "metadata": {},
   "source": [
    "# Iterators and Generators\n",
    "\n",
    "So far, you have seen things like"
   ]
  },
  {
   "cell_type": "code",
   "execution_count": 1,
   "metadata": {},
   "outputs": [
    {
     "name": "stdout",
     "output_type": "stream",
     "text": [
      "1\n",
      "2\n",
      "3\n"
     ]
    }
   ],
   "source": [
    "a = [1,2,3]\n",
    "for x in a:\n",
    "    print(x)"
   ]
  },
  {
   "cell_type": "markdown",
   "metadata": {},
   "source": [
    "This looks very different from a C-style for loop where we loop over the variable index:\n",
    "```C++\n",
    "for (size_t i = 0; i < 3; i++) {\n",
    "    printf(\"%d\\n\", i);\n",
    "}\n",
    "```\n",
    "\n",
    "Or for instance, we can use something called a `range`"
   ]
  },
  {
   "cell_type": "code",
   "execution_count": 2,
   "metadata": {},
   "outputs": [
    {
     "name": "stdout",
     "output_type": "stream",
     "text": [
      "0\n",
      "1\n",
      "2\n"
     ]
    }
   ],
   "source": [
    "for i in range(3):\n",
    "    print(i)"
   ]
  },
  {
   "cell_type": "markdown",
   "metadata": {},
   "source": [
    "or other data types"
   ]
  },
  {
   "cell_type": "code",
   "execution_count": 3,
   "metadata": {},
   "outputs": [
    {
     "name": "stdout",
     "output_type": "stream",
     "text": [
      "hello  :  1\n",
      "goodbye  :  2\n"
     ]
    }
   ],
   "source": [
    "d = {\"hello\": 1, \"goodbye\": 2}\n",
    "for k,v in d.items():\n",
    "    print(k, ' : ', v)"
   ]
  },
  {
   "cell_type": "markdown",
   "metadata": {},
   "source": [
    "The key to using this sort of syntax is the concept of [iterator](https://wiki.python.org/moin/Iterator).  This is common in object-oriented programming (not just in Python), but you probably haven't seen iterators before if you've only used imperative languages.\n",
    "\n",
    "An object is **iterable** if it implements the `__iter__` method, which is expected to return an iterator object.\n",
    "An object is an **iterator** if it implements the `__next__` method, which either\n",
    "1. returns the next element of the iterable object\n",
    "2. raises the `StopIteration` exception if there are no more elements to iterate over"
   ]
  },
  {
   "cell_type": "markdown",
   "metadata": {},
   "source": [
    "## A Basic Iterator\n",
    "\n",
    "What if we want to replicate `range`?  "
   ]
  },
  {
   "cell_type": "code",
   "execution_count": 4,
   "metadata": {},
   "outputs": [
    {
     "data": {
      "text/plain": [
       "range"
      ]
     },
     "execution_count": 4,
     "metadata": {},
     "output_type": "execute_result"
    }
   ],
   "source": [
    "r = range(3)\n",
    "type(r)"
   ]
  },
  {
   "cell_type": "markdown",
   "metadata": {},
   "source": [
    "we can produce an iterator using the `iter` function"
   ]
  },
  {
   "cell_type": "code",
   "execution_count": 10,
   "metadata": {},
   "outputs": [
    {
     "data": {
      "text/plain": [
       "range_iterator"
      ]
     },
     "execution_count": 10,
     "metadata": {},
     "output_type": "execute_result"
    }
   ],
   "source": [
    "ri = iter(r)\n",
    "type(ri)"
   ]
  },
  {
   "cell_type": "markdown",
   "metadata": {},
   "source": [
    "we can explicitly run through the iterator using the `next` function"
   ]
  },
  {
   "cell_type": "code",
   "execution_count": 11,
   "metadata": {},
   "outputs": [
    {
     "data": {
      "text/plain": [
       "0"
      ]
     },
     "execution_count": 11,
     "metadata": {},
     "output_type": "execute_result"
    }
   ],
   "source": [
    "next(ri)"
   ]
  },
  {
   "cell_type": "code",
   "execution_count": 12,
   "metadata": {},
   "outputs": [],
   "source": [
    "class my_range_iterator(object):\n",
    "    def __init__(self, start, stop, stride):\n",
    "        self.state = start\n",
    "        self.stop = stop\n",
    "        self.stride = stride\n",
    "        \n",
    "    def __next__(self):\n",
    "        if self.state >= self.stop:\n",
    "            raise StopIteration  # signals \"the end\"\n",
    "        ret = self.state # we'll return current state\n",
    "        self.state += self.stride # increment state\n",
    "        return ret\n",
    "        \n",
    "        \n",
    "# an iterable\n",
    "class my_range(object):\n",
    "    def __init__(self, start, stop, stride=1):\n",
    "        self.start = start\n",
    "        self.stop = stop\n",
    "        self.stride = stride\n",
    "    \n",
    "    def __iter__(self):\n",
    "        return my_range_iterator(self.start, self.stop, self.stride)"
   ]
  },
  {
   "cell_type": "code",
   "execution_count": 13,
   "metadata": {},
   "outputs": [
    {
     "data": {
      "text/plain": [
       "__main__.my_range"
      ]
     },
     "execution_count": 13,
     "metadata": {},
     "output_type": "execute_result"
    }
   ],
   "source": [
    "r = my_range(0,3)\n",
    "type(r)"
   ]
  },
  {
   "cell_type": "code",
   "execution_count": 19,
   "metadata": {},
   "outputs": [
    {
     "data": {
      "text/plain": [
       "__main__.my_range_iterator"
      ]
     },
     "execution_count": 19,
     "metadata": {},
     "output_type": "execute_result"
    }
   ],
   "source": [
    "ri = iter(r)\n",
    "type(ri)"
   ]
  },
  {
   "cell_type": "code",
   "execution_count": 20,
   "metadata": {},
   "outputs": [
    {
     "data": {
      "text/plain": [
       "0"
      ]
     },
     "execution_count": 20,
     "metadata": {},
     "output_type": "execute_result"
    }
   ],
   "source": [
    "next(ri)"
   ]
  },
  {
   "cell_type": "code",
   "execution_count": 21,
   "metadata": {},
   "outputs": [
    {
     "name": "stdout",
     "output_type": "stream",
     "text": [
      "0\n",
      "1\n",
      "2\n"
     ]
    }
   ],
   "source": [
    "for i in my_range(0,3):\n",
    "    print(i)"
   ]
  },
  {
   "cell_type": "code",
   "execution_count": 22,
   "metadata": {},
   "outputs": [
    {
     "name": "stdout",
     "output_type": "stream",
     "text": [
      "0\n",
      "1\n",
      "2\n"
     ]
    }
   ],
   "source": [
    "for i in range(0,3):\n",
    "    print(i)"
   ]
  },
  {
   "cell_type": "markdown",
   "metadata": {},
   "source": [
    "You can also create classes that are both iterators and iterables"
   ]
  },
  {
   "cell_type": "code",
   "execution_count": 23,
   "metadata": {},
   "outputs": [],
   "source": [
    "# an iterable and iterator\n",
    "class my_range2(object):\n",
    "    def __init__(self, start, stop, stride=1):\n",
    "        self.start = start\n",
    "        self.stop = stop\n",
    "        self.stride = stride\n",
    "        self.state = start\n",
    "    \n",
    "    def __iter__(self):\n",
    "        return self\n",
    "    \n",
    "    def __next__(self):\n",
    "        if self.state >= self.stop:\n",
    "            raise StopIteration  # signals \"the end\"\n",
    "        ret = self.state # we'll return current state\n",
    "        self.state += self.stride # increment state\n",
    "        return ret"
   ]
  },
  {
   "cell_type": "code",
   "execution_count": 24,
   "metadata": {},
   "outputs": [
    {
     "name": "stdout",
     "output_type": "stream",
     "text": [
      "0\n",
      "1\n",
      "2\n"
     ]
    }
   ],
   "source": [
    "for i in my_range2(0,3):\n",
    "    print(i)"
   ]
  },
  {
   "cell_type": "markdown",
   "metadata": {},
   "source": [
    "## Using Iterators for Computation\n",
    "\n",
    "Let's now use iterators for something more interesting - computing the Fibonacci numbers."
   ]
  },
  {
   "cell_type": "code",
   "execution_count": 25,
   "metadata": {},
   "outputs": [],
   "source": [
    "class FibonacciIterator(object):\n",
    "    def __init__(self):\n",
    "        self.a = 0 # current number\n",
    "        self.b = 1 # next number\n",
    "        \n",
    "    def __iter__(self):\n",
    "        return self\n",
    "    \n",
    "    def __next__(self):\n",
    "        ret = self.a\n",
    "        self.a, self.b = self.b, self.a + self.b # advance the iteration\n",
    "        return ret"
   ]
  },
  {
   "cell_type": "code",
   "execution_count": 26,
   "metadata": {},
   "outputs": [
    {
     "name": "stdout",
     "output_type": "stream",
     "text": [
      "0\n",
      "1\n",
      "1\n",
      "2\n",
      "3\n",
      "5\n",
      "8\n",
      "13\n",
      "21\n",
      "34\n",
      "55\n",
      "89\n",
      "144\n",
      "233\n",
      "377\n",
      "610\n",
      "987\n"
     ]
    }
   ],
   "source": [
    "for i in FibonacciIterator():\n",
    "    if i > 1000:\n",
    "        break\n",
    "    print(i)"
   ]
  },
  {
   "cell_type": "markdown",
   "metadata": {},
   "source": [
    "Note that we never raise a `StopIteration` exception - the iterator will just keep going if we let it."
   ]
  },
  {
   "cell_type": "markdown",
   "metadata": {},
   "source": [
    "### Exercise\n",
    "\n",
    "Define `FibonacciIterator` so it will iterate over all Fibonacci numbers until they are greater than a parameter `n`."
   ]
  },
  {
   "cell_type": "code",
   "execution_count": null,
   "metadata": {},
   "outputs": [],
   "source": []
  },
  {
   "cell_type": "markdown",
   "metadata": {},
   "source": [
    "## Generators\n",
    "\n",
    "Often, a more elegant way to define an iterator is using a [generator](https://wiki.python.org/moin/Generators)\n",
    "\n",
    "This is a special kind of iterator defined using a function instead of using classes that implement the `__iter__` and `__next__` methods.\n",
    "\n",
    "See [this post](https://nvie.com/posts/iterators-vs-generators/) for more discussion."
   ]
  },
  {
   "cell_type": "code",
   "execution_count": 27,
   "metadata": {},
   "outputs": [],
   "source": [
    "def my_range3(state, stop, stride=1):\n",
    "    while state < stop:\n",
    "        yield state\n",
    "        state += stride\n",
    "        "
   ]
  },
  {
   "cell_type": "markdown",
   "metadata": {},
   "source": [
    "Note that we use the `def` keyword instead of the `class` keyword for our declaration.  The `yield` keyword returns subsequent values of the iteration."
   ]
  },
  {
   "cell_type": "code",
   "execution_count": 28,
   "metadata": {},
   "outputs": [
    {
     "data": {
      "text/plain": [
       "generator"
      ]
     },
     "execution_count": 28,
     "metadata": {},
     "output_type": "execute_result"
    }
   ],
   "source": [
    "r = my_range3(0,3)\n",
    "type(r)"
   ]
  },
  {
   "cell_type": "code",
   "execution_count": 29,
   "metadata": {},
   "outputs": [
    {
     "data": {
      "text/plain": [
       "generator"
      ]
     },
     "execution_count": 29,
     "metadata": {},
     "output_type": "execute_result"
    }
   ],
   "source": [
    "ri = iter(r)\n",
    "type(ri)"
   ]
  },
  {
   "cell_type": "code",
   "execution_count": 33,
   "metadata": {},
   "outputs": [
    {
     "ename": "StopIteration",
     "evalue": "",
     "output_type": "error",
     "traceback": [
      "\u001b[0;31m---------------------------------------------------------------------------\u001b[0m",
      "\u001b[0;31mStopIteration\u001b[0m                             Traceback (most recent call last)",
      "\u001b[0;32m<ipython-input-33-e29b1d0ccf05>\u001b[0m in \u001b[0;36m<module>\u001b[0;34m\u001b[0m\n\u001b[0;32m----> 1\u001b[0;31m \u001b[0mnext\u001b[0m\u001b[0;34m(\u001b[0m\u001b[0mri\u001b[0m\u001b[0;34m)\u001b[0m\u001b[0;34m\u001b[0m\u001b[0;34m\u001b[0m\u001b[0m\n\u001b[0m",
      "\u001b[0;31mStopIteration\u001b[0m: "
     ]
    }
   ],
   "source": [
    "next(ri)"
   ]
  },
  {
   "cell_type": "code",
   "execution_count": 34,
   "metadata": {},
   "outputs": [
    {
     "name": "stdout",
     "output_type": "stream",
     "text": [
      "0\n",
      "1\n",
      "2\n"
     ]
    }
   ],
   "source": [
    "for i in my_range3(0,3):\n",
    "    print(i)"
   ]
  },
  {
   "cell_type": "markdown",
   "metadata": {},
   "source": [
    "Our Fibonacci example re-written using a generator:"
   ]
  },
  {
   "cell_type": "code",
   "execution_count": 35,
   "metadata": {},
   "outputs": [],
   "source": [
    "def FibonacciGenerator():\n",
    "    a = 0\n",
    "    b = 1\n",
    "    while True:\n",
    "        yield a\n",
    "        a, b = b, a + b"
   ]
  },
  {
   "cell_type": "code",
   "execution_count": 36,
   "metadata": {},
   "outputs": [
    {
     "name": "stdout",
     "output_type": "stream",
     "text": [
      "0\n",
      "1\n",
      "1\n",
      "2\n",
      "3\n",
      "5\n",
      "8\n",
      "13\n",
      "21\n",
      "34\n",
      "55\n",
      "89\n",
      "144\n",
      "233\n",
      "377\n",
      "610\n",
      "987\n"
     ]
    }
   ],
   "source": [
    "for i in FibonacciGenerator():\n",
    "    if i > 1000:\n",
    "        break\n",
    "    print(i)\n"
   ]
  },
  {
   "cell_type": "markdown",
   "metadata": {},
   "source": [
    "### Exercise\n",
    "\n",
    "Define `FibonacciGenerator` so it will iterate over all Fibonacci numbers until they are greater than a parameter `n`."
   ]
  },
  {
   "cell_type": "code",
   "execution_count": null,
   "metadata": {},
   "outputs": [],
   "source": [
    "## Your code here\n"
   ]
  },
  {
   "cell_type": "markdown",
   "metadata": {},
   "source": [
    "## Iteration tools\n",
    "\n",
    "Some useful tools for iterators that come in handy are:\n",
    "\n",
    "`zip` - iterates over multiple iterators simulataneously"
   ]
  },
  {
   "cell_type": "code",
   "execution_count": 37,
   "metadata": {},
   "outputs": [
    {
     "name": "stdout",
     "output_type": "stream",
     "text": [
      "0 a\n",
      "1 b\n",
      "2 c\n"
     ]
    }
   ],
   "source": [
    "for i, a in zip([0,1,2], ['a', 'b', 'c']):\n",
    "    print(i,a)"
   ]
  },
  {
   "cell_type": "markdown",
   "metadata": {},
   "source": [
    "`reversed` - iterates in reverse order"
   ]
  },
  {
   "cell_type": "code",
   "execution_count": 38,
   "metadata": {},
   "outputs": [
    {
     "name": "stdout",
     "output_type": "stream",
     "text": [
      "2\n",
      "1\n",
      "0\n"
     ]
    }
   ],
   "source": [
    "for i in reversed(range(3)):\n",
    "    print(i)"
   ]
  },
  {
   "cell_type": "markdown",
   "metadata": {},
   "source": [
    "`enumerate` - returns the iteration step count as well as the iterator value"
   ]
  },
  {
   "cell_type": "code",
   "execution_count": 39,
   "metadata": {},
   "outputs": [
    {
     "name": "stdout",
     "output_type": "stream",
     "text": [
      "0 a\n",
      "1 b\n",
      "2 c\n"
     ]
    }
   ],
   "source": [
    "for i, a in enumerate('abc'):\n",
    "    print(i, a)"
   ]
  },
  {
   "cell_type": "markdown",
   "metadata": {},
   "source": [
    "### Exercise\n",
    "\n",
    "Implement your own versions of `zip` and `enumerate` using generators"
   ]
  },
  {
   "cell_type": "code",
   "execution_count": null,
   "metadata": {},
   "outputs": [],
   "source": [
    "## Your code here\n"
   ]
  },
  {
   "cell_type": "markdown",
   "metadata": {},
   "source": [
    "## The Itertools Package\n",
    "\n",
    "A useful package for dealing with iterators is the [itertools package](https://docs.python.org/3.8/library/itertools.html).  Here are a few examples - click on the link to see what else the package provides.\n",
    "\n",
    "`product` gives the equivalent of a nested for-loop"
   ]
  },
  {
   "cell_type": "code",
   "execution_count": 40,
   "metadata": {},
   "outputs": [
    {
     "name": "stdout",
     "output_type": "stream",
     "text": [
      "0 0\n",
      "0 1\n",
      "0 2\n",
      "1 0\n",
      "1 1\n",
      "1 2\n"
     ]
    }
   ],
   "source": [
    "from itertools import product\n",
    "\n",
    "for i, j in product(range(2), range(3)):\n",
    "    print(i, j)"
   ]
  },
  {
   "cell_type": "markdown",
   "metadata": {},
   "source": [
    "`repeat` just repeats a value"
   ]
  },
  {
   "cell_type": "code",
   "execution_count": 41,
   "metadata": {},
   "outputs": [
    {
     "name": "stdout",
     "output_type": "stream",
     "text": [
      "10\n",
      "10\n",
      "10\n",
      "10\n",
      "10\n"
     ]
    }
   ],
   "source": [
    "from itertools import repeat\n",
    "\n",
    "for i in repeat(10, 5):\n",
    "    print(i)"
   ]
  },
  {
   "cell_type": "markdown",
   "metadata": {},
   "source": [
    "`permutations`"
   ]
  },
  {
   "cell_type": "code",
   "execution_count": 42,
   "metadata": {},
   "outputs": [
    {
     "name": "stdout",
     "output_type": "stream",
     "text": [
      "(0, 1, 2)\n",
      "(0, 2, 1)\n",
      "(1, 0, 2)\n",
      "(1, 2, 0)\n",
      "(2, 0, 1)\n",
      "(2, 1, 0)\n"
     ]
    }
   ],
   "source": [
    "from itertools import permutations\n",
    "\n",
    "for p in permutations(range(3)):\n",
    "    print(p)"
   ]
  },
  {
   "cell_type": "markdown",
   "metadata": {},
   "source": [
    "### Exercise\n",
    "\n",
    "Implement your own version of `product` and `repeat` using generators."
   ]
  },
  {
   "cell_type": "code",
   "execution_count": null,
   "metadata": {},
   "outputs": [],
   "source": [
    "## Your code here\n"
   ]
  },
  {
   "cell_type": "markdown",
   "metadata": {},
   "source": [
    "## Iterators for Scientific Computing\n",
    "\n",
    "One way you might use an iterator in scientific computing is when implementing an iterative algorithm.\n",
    "\n",
    "Here is an example of the power method, which finds the largest eigenvalue-eigenvector pair of a matrix."
   ]
  },
  {
   "cell_type": "code",
   "execution_count": 43,
   "metadata": {},
   "outputs": [],
   "source": [
    "import numpy as np\n",
    "\n",
    "def PowerMethodGenerator(A, x):\n",
    "    \n",
    "    def RayleighQuotient(A, x):\n",
    "        return np.dot(x, A @ x) / np.dot(x,x)\n",
    "    \n",
    "    x = x / np.linalg.norm(x)\n",
    "    rq_prev = np.inf\n",
    "    rq = RayleighQuotient(A, x)\n",
    "    \n",
    "    while True:\n",
    "        # yield state: RayleighQuotient, x, and difference from previous iteration\n",
    "        yield rq, x, np.abs(rq - rq_prev)\n",
    "        \n",
    "        # compute next iteration\n",
    "        x = A @ x\n",
    "        x = x / np.linalg.norm(x)\n",
    "        rq_prev = rq\n",
    "        rq = RayleighQuotient(A, x)\n",
    "    "
   ]
  },
  {
   "cell_type": "code",
   "execution_count": 44,
   "metadata": {},
   "outputs": [
    {
     "name": "stdout",
     "output_type": "stream",
     "text": [
      "112.64017380081526 inf\n",
      "275.4063518492827 162.76617804846745\n",
      "312.3214564784034 36.91510462912066\n",
      "330.6061728280897 18.284716349686335\n",
      "341.4077590815398 10.801586253450068\n",
      "347.98627884619714 6.578519764657358\n",
      "352.140827713928 4.154548867730853\n",
      "354.90301925398626 2.762191540058268\n",
      "356.8423690032573 1.9393497492710594\n",
      "358.2721456462025 1.4297766429451713\n",
      "359.3693558071367 1.0972101609341962\n",
      "360.2385105611948 0.8691547540581155\n",
      "360.9444828792367 0.7059723180419155\n",
      "361.5295385330741 0.5850556538374008\n",
      "362.0224165809222 0.4928780478480803\n",
      "362.4433748623568 0.4209582814345936\n",
      "362.8071274640744 0.36375260171763557\n",
      "363.12463504792623 0.3175075838518069\n",
      "363.4042414236916 0.2796063757653542\n",
      "363.6524201333118 0.2481787096202197\n",
      "363.874278707542 0.22185857423016841\n",
      "364.07390716000674 0.1996284524647649\n",
      "364.25462361965407 0.18071645964732852\n",
      "364.41915056483464 0.16452694518056887\n",
      "364.5697434089549 0.15059284412024\n",
      "364.70828587268 0.13854246372511625\n",
      "364.836361879778 0.12807600709800226\n",
      "364.955310632043 0.11894875226499835\n",
      "365.0662694648048 0.11095883276180984\n",
      "365.1702076986449 0.10393823384009693\n",
      "365.2679537583901 0.0977460597451909\n",
      "365.3602171810414 0.09226342265128551\n",
      "365.44760668412 0.0873895030786116\n",
      "365.5306451512823 0.08303846716228236\n",
      "365.6097821702816 0.07913701899934722\n",
      "365.6854046006119 0.07562243033027016\n",
      "365.75784553483555 0.07244093422366404\n",
      "365.8273919353257 0.0695464004901396\n",
      "365.8942911676847 0.06689923235899187\n",
      "365.958756607132 0.06446543944730365\n",
      "366.0209724602281 0.0622158530961201\n",
      "366.0810979183663 0.06012545813820225\n",
      "366.13927073933246 0.058172820966149175\n",
      "366.19561033739353 0.05633959806107214\n",
      "366.2502204497222 0.05461011232864621\n",
      "366.3031914367331 0.05297098701089453\n",
      "366.35460226551686 0.05141082878378711\n",
      "366.40452221860755 0.049919953090693525\n",
      "366.45301236450086 0.04849014589331091\n",
      "366.5001268214267 0.04711445692583993\n",
      "366.5459138416971 0.04578702027038162\n",
      "366.5904167403718 0.04450289867469337\n",
      "366.6336746889005 0.043257948528719226\n",
      "366.675723391741 0.042048702840475016\n",
      "366.7165956616376 0.0408722698966244\n",
      "366.75632190724156 0.03972624560395843\n",
      "366.7949305449997 0.03860863775815915\n",
      "366.83244834571565 0.037517800715932026\n",
      "366.8689007248477 0.03645237913207211\n",
      "366.90431198444617 0.035411259598447486\n",
      "366.9387055136065 0.03439352916035432\n",
      "366.97210395342654 0.033398439820018666\n",
      "367.0045293316671 0.032425378240532154\n",
      "367.03600317163875 0.03147383997168163\n",
      "367.0665465792304 0.030543407591665073\n",
      "367.09618031147556 0.029633732245144984\n",
      "367.1249248295932 0.02874451811766221\n",
      "367.15280033903923 0.027875509446005253\n",
      "367.1798268187521 0.027026479712844775\n",
      "367.20602404147564 0.026197222723567393\n",
      "367.2314115867692 0.02538754529354037\n",
      "367.2560088480891 0.024597261319911468\n",
      "367.2798350351187 0.02382618702961281\n",
      "367.3029091723509 0.023074137232185876\n",
      "367.32525009477257 0.022340922421676623\n",
      "367.34687644136955 0.0216263465969746\n",
      "367.36780664705515 0.020930205685601777\n",
      "367.38805893352526 0.020252286470110903\n",
      "367.40765129945896 0.01959236593370406\n",
      "367.4266015104087 0.01895021094975391\n",
      "367.4449270886614 0.01832557825269987\n",
      "367.46264530329614 0.017718214634726337\n",
      "367.4797731606199 0.017127857323771423\n",
      "367.49632739512055 0.016554234500631537\n",
      "367.5123244610464 0.01599706592583061\n",
      "367.5277805246869 0.015456063640499451\n",
      "367.54271145741427 0.01493093272739543\n",
      "367.5571328295158 0.0144213721015376\n",
      "367.57105990483865 0.01392707532284021\n",
      "367.58450763624944 0.013447731410792585\n",
      "367.5974906619021 0.012983025652658853\n",
      "367.61002330229877 0.012532640396671013\n",
      "367.6221195581199 0.012096255821120394\n",
      "367.63379310879503 0.011673550675141087\n",
      "367.6450573117814 0.011264202986353666\n",
      "367.65592520251397 0.010867890732583874\n",
      "367.66640949498884 0.010484292474870927\n",
      "367.6765225829394 0.010113087950571753\n",
      "367.6862765415666 0.009753958627186421\n",
      "367.69568312978015 0.009406588213551004\n",
      "367.7047537929126 0.009070663132433765\n",
      "367.7134996658659 0.00874587295334095\n",
      "367.7219315766513 0.008431910785361652\n",
      "367.73006005028464 0.008128473633348676\n",
      "367.737895313004 0.007835262719368075\n",
      "367.74544729677075 0.007551983766745707\n",
      "367.7527256440239 0.007278347253134143\n",
      "367.75973971265654 0.007014068632656745\n",
      "367.76649858118316 0.006758868526617334\n",
      "367.7730110540715 0.00651247288834611\n",
      "367.77928566721187 0.006274613140362817\n",
      "367.7853306935004 0.006045026288518329\n",
      "367.79115414851265 0.005823455012262002\n",
      "367.79676379624715 0.005609647734502232\n",
      "367.80216715491883 0.00540335867168551\n",
      "367.80737150278463 0.005204347865799264\n",
      "367.81238388398475 0.005012381200117488\n",
      "367.8172111143835 0.004827230398745996\n",
      "367.8218597873977 0.004648673014230553\n",
      "367.82633627979834 0.004476492400613097\n",
      "367.830646757474 0.004310477675687707\n",
      "367.8347971811478 0.004150423673763726\n",
      "367.8387933120357 0.003996130887912841\n",
      "367.8426407174405 0.003847405404769688\n",
      "367.84634477627196 0.003704058831488055\n",
      "367.8499106844889 0.003565908216955904\n",
      "367.8533434604551 0.0034327759661891832\n",
      "367.85664795020574 0.0033044897506329107\n",
      "367.8598288326198 0.0031808824140853176\n",
      "367.86289062449447 0.0030617918746429496\n",
      "367.86583768551844 0.002947061023974129\n",
      "367.8686742231426 0.00283653762414815\n",
      "367.8714042973442 0.002730074201622301\n",
      "367.8740318252858 0.0026275279415699515\n",
      "367.87656058586447 0.0025287605786843415\n",
      "367.8789942241537 0.002433638289232931\n",
      "367.88133625573545 0.0023420315817475057\n",
      "367.8835900709235 0.0022538151880553414\n",
      "367.88575893887736 0.0021688679538556244\n",
      "367.88784601160825 0.002087072730887485\n",
      "367.8898543278772 0.0020083162689275014\n",
      "367.89178681698615 0.001932489108980917\n",
      "367.89364630246325 0.0018594854770981328\n",
      "367.8954355056438 0.0017892031805217812\n",
      "367.8971570491485 0.0017215435047432948\n",
      "367.8988134602593 0.0016564111107868484\n",
      "367.90040717419583 0.0015937139365291841\n",
      "367.90194053729397 0.0015333630981331225\n",
      "367.90341581008715 0.0014752727931863774\n",
      "367.9048351702937 0.0014193602065688538\n",
      "367.90620071571175 0.001365545418025249\n",
      "367.907514467023 0.0013137513112724264\n",
      "367.90877837050834 0.0012639034853236808\n",
      "367.9099943006768 0.0012159301684278034\n",
      "367.9111640628094 0.0011697621326334229\n",
      "367.91228939542196 0.0011253326125597596\n",
      "367.91337197264573 0.0010825772237694764\n",
      "367.91441340653114 0.0010414338854047855\n",
      "367.91541524927476 0.0010018427436193633\n",
      "367.9163789953719 0.0009637460971134715\n",
      "367.917306083697 0.0009270883251133455\n",
      "367.9181978995146 0.0008918158176243196\n",
      "367.9190557764213 0.0008578769067071335\n",
      "367.9198809982219 0.0008252218005964096\n",
      "367.92067480074115 0.0007938025192402165\n",
      "367.9214383735734 0.0007635728322270552\n",
      "367.92217286177123 0.0007344881978497142\n",
      "367.922879367476 0.0007065057047839218\n",
      "367.92355895149143 0.0006795840154154575\n",
      "367.9242126348017 0.0006536833102472883\n",
      "367.92484140003666 0.0006287652349783457\n",
      "367.92544619288503 0.0006047928483781106\n",
      "367.92602792345826 0.0005817305732307432\n",
      "367.9265874676047 0.0005595441464265605\n",
      "367.92712566817835 0.0005382005736578321\n",
      "367.92764333626144 0.0005176680830913938\n",
      "367.92814125234355 0.0004979160821108053\n",
      "367.92862016745823 0.00047891511468378667\n",
      "367.92908080427867 0.00046063682043495646\n",
      "367.92952385817404 0.0004430538953670293\n",
      "367.9299499982276 0.0004261400535483517\n",
      "367.930359868217 0.0004098699894257152\n",
      "367.9307540875607 0.0003942193436614616\n",
      "367.931133252228 0.0003791646673221294\n",
      "367.93149793561724 0.00036468338925033095\n",
      "367.9318486894014 0.0003507537841755948\n",
      "367.9321860443425 0.0003373549410525811\n",
      "367.9325105110762 0.0003244667337298779\n",
      "367.9328225808676 0.00031206979139142277\n",
      "367.9331227263401 0.00030014547252221746\n",
      "367.9334114021756 0.00028867583546343667\n",
      "367.9336890457898 0.0002776436141971317\n",
      "367.9339560779832 0.0002670321934488129\n",
      "367.93421290356673 0.0002568255835058153\n",
      "367.93445991196495 0.0002470083982188953\n",
      "367.93469747779636 0.000237565831412212\n",
      "367.9349259614328 0.00022848363641969627\n",
      "367.9351457095372 0.0002197481044277083\n",
      "367.9353570555819 0.0002113460446935278\n",
      "367.9355603203479 0.00020326476601439936\n",
      "367.9357558124042 0.00019549205626390176\n",
      "367.93594382857015 0.0001880161659641999\n",
      "367.93612465436127 0.00018082579111933228\n",
      "367.93629856441646 0.00017391005519584724\n",
      "367.9364658229107 0.0001672584942298272\n",
      "367.93662668395154 0.00016086104085388797\n",
      "367.9367813919614 0.0001547080098589504\n",
      "367.9369301820446 0.0001487900831875777\n",
      "367.9370732803413 0.00014309829668945895\n",
      "367.93721090436765 0.0001376240263653017\n",
      "367.9373432633436 0.0001323589759749666\n",
      "367.937470558508 0.0001272951643613851\n",
      "367.9375929834217 0.0001224249137408151\n",
      "367.9377107242601 0.00011774083839100058\n",
      "367.93782396009306 0.00011323583294142736\n",
      "367.9379328631559 0.00010890306282362872\n",
      "367.9380375991093 0.00010473595341409236\n",
      "367.93813832728927 0.00010072817997297534\n",
      "367.9382352009482 9.68736589470609e-05\n"
     ]
    }
   ],
   "source": [
    "n = 100\n",
    "A = np.random.randn(n, n)\n",
    "A = A @ A.T\n",
    "x0 = np.random.randn(n)\n",
    "\n",
    "solver = PowerMethodGenerator(A, x0)\n",
    "tol = 1e-4\n",
    "\n",
    "while True:\n",
    "    rq, x, eps = next(solver)\n",
    "    print(rq, eps)\n",
    "    if eps < tol:\n",
    "        break"
   ]
  },
  {
   "cell_type": "markdown",
   "metadata": {},
   "source": [
    "If we decide that we're not satisfied with convergence yet, we can resume where we left off"
   ]
  },
  {
   "cell_type": "code",
   "execution_count": 45,
   "metadata": {},
   "outputs": [
    {
     "name": "stdout",
     "output_type": "stream",
     "text": [
      "367.9383283674861 9.31665379084734e-05\n",
      "367.93841796867406 8.960118793766014e-05\n",
      "367.938504140868 8.617219396001019e-05\n",
      "367.9385870152154 8.287434735620991e-05\n",
      "367.93866671785395 7.970263857259852e-05\n",
      "367.9387433701017 7.665224774200396e-05\n",
      "367.9388170886417 7.37185400225826e-05\n",
      "367.9388879856983 7.089705655971557e-05\n",
      "367.938956169207 6.818350874482348e-05\n",
      "367.93902174297847 6.557377145099963e-05\n",
      "367.93908480685536 6.306387689392068e-05\n",
      "367.93914545686425 6.065000889066141e-05\n",
      "367.93920378536063 5.832849637954496e-05\n",
      "367.9392598811699 5.609580927057323e-05\n",
      "367.9393138297209 5.394855099893903e-05\n",
      "367.9393657131767 5.1883455796541966e-05\n",
      "367.9394156105586 4.989738192762161e-05\n",
      "367.93946359786617 4.7987307539187896e-05\n",
      "367.93950974819285 4.6150326681981824e-05\n",
      "367.9395541318368 4.4383643967194075e-05\n",
      "367.93959681640786 4.268457104217305e-05\n",
      "367.9396378669296 4.105052175873425e-05\n",
      "367.939677345939 3.9479009387832775e-05\n",
      "367.9397153135808 3.796764178787271e-05\n",
      "367.93975182769924 3.651411844884933e-05\n",
      "367.93978694392575 3.511622651330981e-05\n",
      "367.9398207157636 3.377183782049542e-05\n",
      "367.93985319466935 3.247890577995349e-05\n",
      "367.93988443013086 3.123546150618495e-05\n",
      "367.9399144697427 3.0039611829124624e-05\n",
      "367.93994335927846 2.8889535769849317e-05\n",
      "367.9399711427604 2.7783481925780507e-05\n",
      "367.9399978625262 2.671976579904367e-05\n",
      "367.9400235592936 2.5696767409044696e-05\n",
      "367.9400482722226 2.471292901873312e-05\n",
      "367.94007203897434 2.3766751723997004e-05\n",
      "367.9400948957689 2.2856794544168224e-05\n",
      "367.9401168774403 2.198167140932128e-05\n",
      "367.94013801748935 2.114004905706679e-05\n",
      "367.940158348135 2.0330645668309444e-05\n",
      "367.9401779003631 1.9552228081920475e-05\n",
      "367.94019670397347 1.880361037365219e-05\n",
      "367.9402147876256 1.8083652150835405e-05\n",
      "367.94023217888207 1.7391256449172943e-05\n",
      "367.94024890425027 1.6725368197967327e-05\n",
      "367.94026498922335 1.6084973083252407e-05\n",
      "367.9402804583188 1.5469095444586856e-05\n",
      "367.9402953351151 1.487679628553451e-05\n",
      "367.94030964228864 1.430717355788147e-05\n",
      "367.94032340164785 1.375935920577831e-05\n",
      "367.9403366341662 1.3232518369932222e-05\n",
      "367.9403493600143 1.272584808020838e-05\n",
      "367.94036159859087 1.2238576573508908e-05\n",
      "367.94037336855183 1.1769960963192716e-05\n",
      "367.9403846878391 1.1319287295918912e-05\n",
      "367.94039557370763 1.0885868505283725e-05\n",
      "367.9404060427518 1.046904418444683e-05\n",
      "367.9404161109311 1.0068179278732714e-05\n",
      "367.94042579359353 9.68266243717153e-06\n",
      "367.9404351054999 9.311906353559607e-06\n",
      "367.9404440608457 8.955345833783213e-06\n",
      "367.94045267328323 8.612437511601456e-06\n",
      "367.94046095594183 8.282658598091075e-06\n",
      "367.94046892144854 7.965506711116177e-06\n",
      "367.9404765819466 7.660498056338838e-06\n",
      "367.9404839491146 7.36716799565329e-06\n",
      "367.9404910341838 7.085069228196517e-06\n",
      "367.94049784795584 6.813772017721931e-06\n",
      "367.94050440081855 6.552862714670482e-06\n",
      "367.94051070276174 6.3019431877364696e-06\n",
      "367.9405167633936 6.0606318470490805e-06\n",
      "367.94052259195365 5.828560063037003e-06\n",
      "367.9405281973279 5.605374269634922e-06\n",
      "367.9405335880623 5.390734372667794e-06\n",
      "367.94053877237553 5.184313238260074e-06\n",
      "367.94054375817154 4.985796010714694e-06\n",
      "367.9405485530515 4.794879941982799e-06\n",
      "367.94055316432593 4.611274448507174e-06\n",
      "367.94055759902517 4.4346992353894166e-06\n",
      "367.9405618639104 4.264885205884639e-06\n",
      "367.9405659654839 4.1015735519067675e-06\n",
      "367.9405699099992 3.944515299281193e-06\n",
      "367.9405737034702 3.7934709666842537e-06\n",
      "367.9405773516805 3.6482102814261452e-06\n",
      "367.9405808601924 3.5085119520772423e-06\n",
      "367.94058423435513 3.374162702129979e-06\n",
      "367.9405874793131 3.2449579521198757e-06\n",
      "367.9405906000137 3.1207006259137415e-06\n",
      "367.9405936012151 3.0012013780833513e-06\n",
      "367.94059648749294 2.8862778549409995e-06\n",
      "367.940599263248 2.775755035600014e-06\n",
      "367.9406019327123 2.669464322480053e-06\n",
      "367.94060449995584 2.567243541307107e-06\n",
      "367.940606968893 2.468937168487173e-06\n",
      "367.94060934328814 2.3743951373944583e-06\n",
      "367.9406116267612 2.2834730657450564e-06\n",
      "367.94061382279415 2.1960329377179733e-06\n",
      "367.94061593473486 2.111940716531535e-06\n",
      "367.9406179658037 2.0310688455538184e-06\n",
      "367.94061991909746 1.9532937471922196e-06\n",
      "367.94062179759413 1.8784966755447385e-06\n",
      "367.94062360415785 1.8065637163999781e-06\n",
      "367.9406253415432 1.7373853324897937e-06\n",
      "367.9406270123992 1.6708560224287794e-06\n",
      "367.9406286192734 1.6068742070274311e-06\n",
      "367.9406301646157 1.5453422861355648e-06\n",
      "367.94063165078234 1.4861666386423167e-06\n",
      "367.9406330800395 1.4292571677287924e-06\n",
      "367.9406344545663 1.3745267892772972e-06\n",
      "367.9406357764582 1.3218918866186868e-06\n",
      "367.94063704773123 1.2712730494968127e-06\n",
      "367.94063827032335 1.2225921182107413e-06\n",
      "367.9406394460988 1.1757754805330478e-06\n",
      "367.9406405768504 1.1307515705993865e-06\n",
      "367.94064166430206 1.0874516647163546e-06\n",
      "367.94064271011194 1.0458098813614924e-06\n",
      "367.94064371587467 1.0057627264359326e-06\n",
      "367.94064468312365 9.672489795775618e-07\n"
     ]
    }
   ],
   "source": [
    "tol = 1e-6\n",
    "\n",
    "while True:\n",
    "    rq, x, eps = next(solver)\n",
    "    print(rq, eps)\n",
    "    if eps < tol:\n",
    "        break"
   ]
  },
  {
   "cell_type": "code",
   "execution_count": null,
   "metadata": {},
   "outputs": [],
   "source": []
  }
 ],
 "metadata": {
  "kernelspec": {
   "display_name": "Python (pycourse)",
   "language": "python",
   "name": "pycourse"
  },
  "language_info": {
   "codemirror_mode": {
    "name": "ipython",
    "version": 3
   },
   "file_extension": ".py",
   "mimetype": "text/x-python",
   "name": "python",
   "nbconvert_exporter": "python",
   "pygments_lexer": "ipython3",
   "version": "3.8.3"
  }
 },
 "nbformat": 4,
 "nbformat_minor": 2
}
