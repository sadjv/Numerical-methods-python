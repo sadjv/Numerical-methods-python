{
 "cells": [
  {
   "cell_type": "markdown",
   "metadata": {},
   "source": [
    "# Initial Value Problems\n",
    "\n",
    "An initial value problem is an ordinary differential equation of the form $y'(t) = f(y, t)$ with $y(0) = c$, where $y$ can be a single or muliti-valued.\n",
    "\n",
    "The idea is that you specifty the starting point of a system and the rules that govern the system, and let the simulation go from there."
   ]
  },
  {
   "cell_type": "markdown",
   "metadata": {},
   "source": [
    "## Your Zebra Sanctuary\n",
    "\n",
    "Let's say you are really enthusiastic about zebras.\n",
    "\n",
    "<p><a href=\"https://commons.wikimedia.org/wiki/File:Grevy%27s_Zebra_Stallion.jpg#/media/File:Grevy's_Zebra_Stallion.jpg\"><img src=\"https://upload.wikimedia.org/wikipedia/commons/7/74/Grevy%27s_Zebra_Stallion.jpg\" alt=\"Grevy's Zebra Stallion.jpg\" style=\"height:300px;\"></a>\n",
    "<br>\n",
    "<center>By <a rel=\"nofollow\" class=\"external text\" href=\"https://www.flickr.com/photos/rainbirder/\">Rainbirder</a> - <a rel=\"nofollow\" class=\"external text\" href=\"https://www.flickr.com/photos/rainbirder/5299622573/\">Grevy's Zebra Stallion</a>, <a href=\"https://creativecommons.org/licenses/by-sa/2.0\" title=\"Creative Commons Attribution-Share Alike 2.0\">CC BY-SA 2.0</a>, <a href=\"https://commons.wikimedia.org/w/index.php?curid=13267554\">Link</a></center></p>\n",
    "\n",
    "You decide to start a zebra sanctuary in your backyard.  Soon you have a bunch of zebras having a great time eating your grass and shrubbery."
   ]
  },
  {
   "cell_type": "markdown",
   "metadata": {},
   "source": [
    "### A Growing Problem\n",
    "\n",
    "Your zebras keep having babies.  This is manageable for now, and the baby zebras are cute.  However, you're a bit worried about the number of zerbas you're going to need to feed, and you want to figure out what will happen if you let things go unchecked.  Naturally, you decide to write a program to simulate your zebra problem.\n",
    "\n",
    "Let's say you have $z_0$ zebras this month. The number of zebra babies that will appear next month is proportional to the current population, so \n",
    "\\begin{equation}\n",
    "z_1 = z_0 + \\Delta(z_0)\n",
    "\\end{equation}\n",
    "where $\\Delta(z_0) = \\alpha z_0$.  You estimate $\\alpha$ is about $0.02$. \n",
    "\n",
    "We can write this as a differential equation\n",
    "\\begin{equation}\n",
    "z'(t) = \\alpha z(t)\n",
    "\\end{equation}\n",
    "\n",
    "Now it is time to fire up your Python interpreter.  We'll use `solve_ivp` in `scipy.integrate` - this is a high-level wrapper with lots of options for solving initial value problems.  The important arguments to provide are:\n",
    "* `f(t, y)` - a Python function that returns the right-hand side of the ODE - this can be a multivalued function\n",
    "* `t_span` - a tuple `(t0, t1)` which gives the start and end times of the simulation\n",
    "* `y0` - the state of the system at `t0`\n",
    "\n",
    "`solve_ivp` will do a lot of work for you - deciding on a backend algorithm, chooing time steps, etc.  You might find it useful to specify `t_eval`, which gives an array of points to evaluate the function on."
   ]
  },
  {
   "cell_type": "code",
   "execution_count": 1,
   "metadata": {},
   "outputs": [
    {
     "data": {
      "image/png": "[encoded data removed]",
      "text/plain": [
       "<Figure size 432x288 with 1 Axes>"
      ]
     },
     "metadata": {
      "needs_background": "light"
     },
     "output_type": "display_data"
    }
   ],
   "source": [
    "import numpy as np\n",
    "import matplotlib.pyplot as plt\n",
    "from scipy.integrate import solve_ivp\n",
    "\n",
    "z0 = np.array([50])\n",
    "alpha = 0.02\n",
    "\n",
    "f = lambda t, z : alpha * z\n",
    "t_span = (0, 100)\n",
    "t_eval = np.linspace(0,100, 200)\n",
    "\n",
    "sol = solve_ivp(f, t_span, z0, t_eval=t_eval)\n",
    "    \n",
    "plt.plot(sol.t, sol.y[0], c='k')\n",
    "plt.title(\"The Zebra Problem\")\n",
    "plt.ylabel(\"zebras\")\n",
    "plt.xlabel(\"months\")\n",
    "plt.show()"
   ]
  },
  {
   "cell_type": "markdown",
   "metadata": {},
   "source": [
    "Things do not look good.  There is no way you can afford to feed even 100 zerbas while paying tuition at the University of Chicago.  Hard choices will need to be made.\n",
    "\n",
    "### A Natural Solution\n",
    "\n",
    "When posting a \"Zebras for sale\" ad on craigslist, you see an add for a family of lions that need a home.  You feel bad for the lions, and realize you can use them to solve your zebra problem.  However, before commiting, you want to make sure the lions won't eat all the zebras (you just want to keep the population controlled, not exterminated).  You read a bit about how lions and zebras might interact and decide to use a [Predator-Prey model](https://en.wikipedia.org/wiki/Lotka%E2%80%93Volterra_equations).  \n",
    "1. Zebras will continue to have babies at rate $\\alpha$.\n",
    "2. A lion will catch and eat every $100$th zebra it sees.  The number of zebras a lion sees depends on the zebra population, we'll denote the rate at which a lion encounters a single zebra in a month as $\\beta$.\n",
    "3. For every 5 zebras the lions eat, a lion baby is born.  \n",
    "4. Lions die of old age at a rate of $\\gamma$\n",
    "\n",
    "We'll use $x$ to denote the number of lions, and $z$ for the number of zebras.  Now, the amount the zebra population changes every month is $\\Delta_z(z,x) = \\alpha z - \\frac{\\beta}{100} x z$.  The amount the lion population changes every month is $\\Delta_x(x,z) = \\frac{\\beta}{500} x z - \\gamma x$.  \n",
    "\n",
    "In order to solve this problem, we can use a vector $y = [x, z]^T$, and the following ODE system:\n",
    "\\begin{equation}\n",
    "y_0'(t) = \\frac{\\beta}{500} y_0 y_1 - \\gamma y_0\\\\\n",
    "y_1'(t) = \\alpha y_1 - \\frac{\\beta}{100} y_0 y_1\n",
    "\\end{equation}\n",
    "\n",
    "You estimate $\\gamma$ to be $0.02$, and $\\beta$ to be $1.0$.\n",
    "\n",
    "You plan to start with 5 lions and 50 zebras."
   ]
  },
  {
   "cell_type": "code",
   "execution_count": 2,
   "metadata": {},
   "outputs": [
    {
     "data": {
      "image/png": "[encoded data removed]",
      "text/plain": [
       "<Figure size 432x288 with 1 Axes>"
      ]
     },
     "metadata": {
      "needs_background": "light"
     },
     "output_type": "display_data"
    }
   ],
   "source": [
    "z0 = 50\n",
    "x0 = 5\n",
    "alpha = 0.02\n",
    "beta = 1.0\n",
    "gamma = 0.02\n",
    "\n",
    "y0 = np.array([x0, z0])\n",
    "f = lambda t, y : np.array([\n",
    "    -gamma*y[0] + beta/500 * y[0]*y[1],\n",
    "    alpha*y[1] - beta/100 * y[0]*y[1]\n",
    "] )\n",
    "\n",
    "t_eval = np.linspace(0, 100, 200)\n",
    "\n",
    "sol = solve_ivp(f, t_span, y0, t_eval=t_eval)\n",
    "\n",
    "    \n",
    "plt.plot(sol.t, sol.y[1], label=\"zebras\", c='k')\n",
    "plt.plot(sol.t, sol.y[0], label=\"lions\", c='r')\n",
    "plt.title(\"Lions v.s. Zebras\")\n",
    "plt.ylabel(\"population\")\n",
    "plt.xlabel(\"months\")\n",
    "plt.legend()\n",
    "plt.show()"
   ]
  },
  {
   "cell_type": "markdown",
   "metadata": {},
   "source": [
    "Oh no!  Soon the zebras will be eaten, and you'll be left with a pack of hungry lions.  You wonder what would happen if you do some landscaping to make it easier for the zebras to hide.  Then you might have $\\beta = 0.3$."
   ]
  },
  {
   "cell_type": "code",
   "execution_count": 3,
   "metadata": {},
   "outputs": [
    {
     "data": {
      "image/png": "[encoded data removed]",
      "text/plain": [
       "<Figure size 432x288 with 1 Axes>"
      ]
     },
     "metadata": {
      "needs_background": "light"
     },
     "output_type": "display_data"
    }
   ],
   "source": [
    "z0 = 50\n",
    "x0 = 5\n",
    "alpha = 0.02\n",
    "beta = 0.3\n",
    "gamma = 0.02\n",
    "\n",
    "y0 = np.array([x0, z0])\n",
    "f = lambda t, y : np.array([\n",
    "    -gamma*y[0] + beta/500 * y[0]*y[1],\n",
    "    alpha*y[1] - beta/100 * y[0]*y[1]\n",
    "] )\n",
    "\n",
    "t_eval = np.linspace(0, 100, 200)\n",
    "\n",
    "sol = solve_ivp(f, t_span, y0, t_eval=t_eval)\n",
    "\n",
    "    \n",
    "plt.plot(sol.t, sol.y[1], label=\"zebras\", c='k')\n",
    "plt.plot(sol.t, sol.y[0], label=\"lions\", c='r')\n",
    "plt.title(\"Lions v.s. Zebras\")\n",
    "plt.ylabel(\"population\")\n",
    "plt.xlabel(\"months\")\n",
    "plt.legend()\n",
    "plt.show()"
   ]
  },
  {
   "cell_type": "markdown",
   "metadata": {},
   "source": [
    "That looks a bit better - what if we run the simulation for longer?"
   ]
  },
  {
   "cell_type": "code",
   "execution_count": 4,
   "metadata": {},
   "outputs": [
    {
     "data": {
      "image/png": "[encoded data removed]",
      "text/plain": [
       "<Figure size 432x288 with 1 Axes>"
      ]
     },
     "metadata": {
      "needs_background": "light"
     },
     "output_type": "display_data"
    }
   ],
   "source": [
    "z0 = 50\n",
    "x0 = 5\n",
    "alpha = 0.02\n",
    "beta = 0.3\n",
    "gamma = 0.02\n",
    "\n",
    "\n",
    "y0 = np.array([x0, z0])\n",
    "f = lambda t, y : np.array([\n",
    "    -gamma*y[0] + beta/500 * y[0]*y[1],\n",
    "    alpha*y[1] - beta/100 * y[0]*y[1]\n",
    "] )\n",
    "\n",
    "t_eval = np.linspace(0, 1000, 2000)\n",
    "t_span = (0, 1000)\n",
    "\n",
    "sol = solve_ivp(f, t_span, y0, t_eval=t_eval)\n",
    "\n",
    "    \n",
    "plt.plot(sol.t, sol.y[1], label=\"zebras\", c='k')\n",
    "plt.plot(sol.t, sol.y[0], label=\"lions\", c='r')\n",
    "plt.title(\"Lions v.s. Zebras\")\n",
    "plt.ylabel(\"population\")\n",
    "plt.xlabel(\"months\")\n",
    "plt.legend()\n",
    "plt.show()"
   ]
  },
  {
   "cell_type": "markdown",
   "metadata": {},
   "source": [
    "This seems like a good solution - you install some hiding places for zebras, and give the lions a home.  You start charging interested visitors for tours, and open a gift shop.  Soon you are able to cover the expenses for the zerba hay.  You quit your day job and become a safari guide in your own backyard."
   ]
  },
  {
   "cell_type": "markdown",
   "metadata": {},
   "source": [
    "### Exercises\n",
    "\n",
    "1. Come up with agent-based models for the zebra growth model and lion-zebra predator-prey model.  How do these compare to the ODE models in terms of speed?"
   ]
  },
  {
   "cell_type": "code",
   "execution_count": null,
   "metadata": {},
   "outputs": [],
   "source": [
    "## Your code here\n"
   ]
  },
  {
   "cell_type": "markdown",
   "metadata": {},
   "source": [
    "## Symbolic Solutions of ODEs\n",
    "\n",
    "You can use SymPy for symbolic solutions of ODEs.  For instance, in our zebra growth problem, we had an ODE of the form\n",
    "\\begin{equation}\n",
    "y'(t) = a y(t)\n",
    "\\end{equation}\n",
    "We can use SymPy to classify the ODEs and find a symbolic solution (if one exists)"
   ]
  },
  {
   "cell_type": "code",
   "execution_count": 5,
   "metadata": {},
   "outputs": [],
   "source": [
    "import sympy as sym\n",
    "from sympy.solvers import ode"
   ]
  },
  {
   "cell_type": "code",
   "execution_count": 6,
   "metadata": {},
   "outputs": [
    {
     "data": {
      "text/latex": [
       "$\\displaystyle - a y{\\left(t \\right)} + \\frac{d}{d t} y{\\left(t \\right)}$"
      ],
      "text/plain": [
       "-a*y(t) + Derivative(y(t), t)"
      ]
     },
     "execution_count": 6,
     "metadata": {},
     "output_type": "execute_result"
    }
   ],
   "source": [
    "a, t = sym.symbols('a t') # symbol\n",
    "y = sym.Function('y') # symbolic function\n",
    "eqn = y(t).diff(t) - a * y(t) # eqn = 0\n",
    "eqn"
   ]
  },
  {
   "cell_type": "code",
   "execution_count": 7,
   "metadata": {},
   "outputs": [
    {
     "data": {
      "text/plain": [
       "('separable',\n",
       " '1st_exact',\n",
       " '1st_linear',\n",
       " 'Bernoulli',\n",
       " 'almost_linear',\n",
       " '1st_power_series',\n",
       " 'lie_group',\n",
       " 'nth_linear_constant_coeff_homogeneous',\n",
       " 'separable_Integral',\n",
       " '1st_exact_Integral',\n",
       " '1st_linear_Integral',\n",
       " 'Bernoulli_Integral',\n",
       " 'almost_linear_Integral')"
      ]
     },
     "execution_count": 7,
     "metadata": {},
     "output_type": "execute_result"
    }
   ],
   "source": [
    "ode.classify_ode(eqn)"
   ]
  },
  {
   "cell_type": "markdown",
   "metadata": {},
   "source": [
    "You might recognize some of the above from an ODE class. We see that this ODE is fairly simple, and a variety of methods might be used to solve the equation symbolicly."
   ]
  },
  {
   "cell_type": "code",
   "execution_count": 8,
   "metadata": {},
   "outputs": [
    {
     "data": {
      "text/latex": [
       "$\\displaystyle y{\\left(t \\right)} = C_{1} e^{a t}$"
      ],
      "text/plain": [
       "Eq(y(t), C1*exp(a*t))"
      ]
     },
     "execution_count": 8,
     "metadata": {},
     "output_type": "execute_result"
    }
   ],
   "source": [
    "ode.dsolve(eqn, hint='separable') # we solve the differential equation using the hinted method"
   ]
  },
  {
   "cell_type": "markdown",
   "metadata": {},
   "source": [
    "If you have taken a class on ODEs, hopefully this looks correct.  If you don't remember your ODEs, or haven't seen them before, try verifying that the solution satisfies `y'(t) = a * y(t)`"
   ]
  },
  {
   "cell_type": "markdown",
   "metadata": {},
   "source": [
    "### The Logistic Equation\n",
    "\n",
    "Another ODE is the Logistic equation\n",
    "\\begin{equation}\n",
    "y'(t) = y(t) (1 - y(t))\n",
    "\\end{equation}\n",
    "\n",
    "This models growth of a population with resource limits. \n",
    "\n",
    "First, let's use SymPy to find a symbolic solution"
   ]
  },
  {
   "cell_type": "code",
   "execution_count": 9,
   "metadata": {},
   "outputs": [
    {
     "data": {
      "text/latex": [
       "$\\displaystyle - \\left(1 - y{\\left(t \\right)}\\right) y{\\left(t \\right)} + \\frac{d}{d t} y{\\left(t \\right)}$"
      ],
      "text/plain": [
       "-(1 - y(t))*y(t) + Derivative(y(t), t)"
      ]
     },
     "execution_count": 9,
     "metadata": {},
     "output_type": "execute_result"
    }
   ],
   "source": [
    "t = sym.symbols('t') # symbol\n",
    "y = sym.Function('y') # symbolic function\n",
    "eqn = y(t).diff(t) - y(t) * (1 - y(t))\n",
    "eqn"
   ]
  },
  {
   "cell_type": "code",
   "execution_count": 10,
   "metadata": {},
   "outputs": [
    {
     "data": {
      "text/plain": [
       "('separable',\n",
       " '1st_exact',\n",
       " 'Bernoulli',\n",
       " '1st_power_series',\n",
       " 'lie_group',\n",
       " 'separable_Integral',\n",
       " '1st_exact_Integral',\n",
       " 'Bernoulli_Integral')"
      ]
     },
     "execution_count": 10,
     "metadata": {},
     "output_type": "execute_result"
    }
   ],
   "source": [
    "ode.classify_ode(eqn)"
   ]
  },
  {
   "cell_type": "code",
   "execution_count": 11,
   "metadata": {},
   "outputs": [
    {
     "data": {
      "text/latex": [
       "$\\displaystyle y{\\left(t \\right)} = \\frac{1}{C_{1} e^{- t} + 1}$"
      ],
      "text/plain": [
       "Eq(y(t), 1/(C1*exp(-t) + 1))"
      ]
     },
     "execution_count": 11,
     "metadata": {},
     "output_type": "execute_result"
    }
   ],
   "source": [
    "f = ode.dsolve(eqn, hint='separable')\n",
    "f"
   ]
  },
  {
   "cell_type": "markdown",
   "metadata": {},
   "source": [
    "Let's just set the constant $C_1$ to be 1"
   ]
  },
  {
   "cell_type": "code",
   "execution_count": 12,
   "metadata": {},
   "outputs": [
    {
     "data": {
      "image/png": "[encoded data removed]",
      "text/plain": [
       "<Figure size 432x288 with 1 Axes>"
      ]
     },
     "metadata": {
      "needs_background": "light"
     },
     "output_type": "display_data"
    },
    {
     "data": {
      "text/plain": [
       "<sympy.plotting.plot.Plot at 0x7f2d45437b20>"
      ]
     },
     "execution_count": 12,
     "metadata": {},
     "output_type": "execute_result"
    }
   ],
   "source": [
    "exp = 1 / (sym.exp(-t) + 1)\n",
    "sym.plot(exp)"
   ]
  },
  {
   "cell_type": "markdown",
   "metadata": {},
   "source": [
    "Let's look at solving the ODE with $y(0) = 0.1$ .  We can pass this into SymPy's `ode.dsolve` using the `ics` keyword:"
   ]
  },
  {
   "cell_type": "code",
   "execution_count": 13,
   "metadata": {},
   "outputs": [
    {
     "data": {
      "text/latex": [
       "$\\displaystyle y{\\left(t \\right)} = \\frac{1}{1 + 9.0 e^{- t}}$"
      ],
      "text/plain": [
       "Eq(y(t), 1/(1 + 9.0*exp(-t)))"
      ]
     },
     "execution_count": 13,
     "metadata": {},
     "output_type": "execute_result"
    }
   ],
   "source": [
    "f = ode.dsolve(eqn, hint='separable', ics={y(0): 0.1})\n",
    "f"
   ]
  },
  {
   "cell_type": "markdown",
   "metadata": {},
   "source": [
    "now, because we actually solved the IVP, there are no constants to fill in, and we can plot the right hand side of the equation:"
   ]
  },
  {
   "cell_type": "code",
   "execution_count": 14,
   "metadata": {},
   "outputs": [
    {
     "data": {
      "image/png": "[encoded data removed]",
      "text/plain": [
       "<Figure size 432x288 with 1 Axes>"
      ]
     },
     "metadata": {
      "needs_background": "light"
     },
     "output_type": "display_data"
    },
    {
     "data": {
      "text/plain": [
       "<sympy.plotting.plot.Plot at 0x7f2d45437a30>"
      ]
     },
     "execution_count": 14,
     "metadata": {},
     "output_type": "execute_result"
    }
   ],
   "source": [
    "sym.plot(f.rhs)"
   ]
  },
  {
   "cell_type": "markdown",
   "metadata": {},
   "source": [
    "Now, let's solve the IVP numerically using `scipy`"
   ]
  },
  {
   "cell_type": "code",
   "execution_count": 15,
   "metadata": {},
   "outputs": [
    {
     "data": {
      "image/png": "[encoded data removed]",
      "text/plain": [
       "<Figure size 432x288 with 1 Axes>"
      ]
     },
     "metadata": {
      "needs_background": "light"
     },
     "output_type": "display_data"
    }
   ],
   "source": [
    "y0 = np.array([0.1])\n",
    "\n",
    "f = lambda t, y : y * (1 - y)\n",
    "t_span = (0, 10)\n",
    "t_eval = np.linspace(0,10, 200)\n",
    "\n",
    "sol = solve_ivp(f, t_span, y0, t_eval=t_eval)\n",
    "    \n",
    "plt.plot(sol.t, sol.y[0], c='k')\n",
    "plt.title(\"Logistic Function\")\n",
    "plt.ylabel(\"y\")\n",
    "plt.xlabel(\"t\")\n",
    "plt.show()"
   ]
  },
  {
   "cell_type": "markdown",
   "metadata": {},
   "source": [
    "### Exercises\n",
    "\n",
    "1. Get an exact expression for the zebra growth IVP using SymPy.  What is the worst-case error over the 100-month simulation we conducted?"
   ]
  },
  {
   "cell_type": "code",
   "execution_count": null,
   "metadata": {},
   "outputs": [],
   "source": [
    "## Your code here\n"
   ]
  },
  {
   "cell_type": "markdown",
   "metadata": {},
   "source": [
    "## Euler Method\n",
    "\n",
    "The [(forward) Euler Method](https://en.wikipedia.org/wiki/Euler_method) is a numerical method for solving Initial Value Problems.  The basic idea is to choose a step size `h`, and iteratively compute `y(t0), y(t0+h), y(t0+2h), ...` using `y(t0 + (k+1)h) = y(t0 + kh) + h f(t, y(t0 + hk))`\n",
    "\n",
    "Here's an example implementation"
   ]
  },
  {
   "cell_type": "code",
   "execution_count": 17,
   "metadata": {},
   "outputs": [],
   "source": [
    "def forward_euler(f, y0, t0=0, h=1e-2, n=100):\n",
    "    \"\"\"\n",
    "    compute n forward euler steps\n",
    "    \"\"\"\n",
    "    y = [y0]\n",
    "    t = [t0]\n",
    "    for k in range(n-1):\n",
    "        fk = f(t[-1], y[-1])\n",
    "        y.append(y[-1] + h*fk)\n",
    "        t.append(t[-1]+h)\n",
    "        \n",
    "    return np.array(y), np.array(t)"
   ]
  },
  {
   "cell_type": "markdown",
   "metadata": {},
   "source": [
    "Let's use this function to compute the solution to the Logistic equation:"
   ]
  },
  {
   "cell_type": "code",
   "execution_count": 18,
   "metadata": {},
   "outputs": [],
   "source": [
    "f = lambda t, y : y * (1 - y)\n",
    "\n",
    "y, t = forward_euler(f, 0.1, h=1e-1, n=100)"
   ]
  },
  {
   "cell_type": "code",
   "execution_count": 19,
   "metadata": {},
   "outputs": [
    {
     "data": {
      "image/png": "[encoded data removed]",
      "text/plain": [
       "<Figure size 432x288 with 1 Axes>"
      ]
     },
     "metadata": {
      "needs_background": "light"
     },
     "output_type": "display_data"
    }
   ],
   "source": [
    "plt.plot(t, y, c='k')\n",
    "plt.title(\"Logistic Function\")\n",
    "plt.ylabel(\"y\")\n",
    "plt.xlabel(\"t\")\n",
    "plt.show()"
   ]
  },
  {
   "cell_type": "markdown",
   "metadata": {},
   "source": [
    "### Exercise\n",
    "\n",
    "1. write a version of `forward_euler` that will take in arguments in the same manner as `solve_ivp` (`f`, `tspan`,  `y0`, and `t_eval`).  You can define `h` for every step in `t_eval`.  Return a solution class which has fields `y` and `t`, just like `solve_ivp`.  Compare the output of your function to the output of `solve_ivp` on the logistic equation IVP above.  How accurate is either compared to a ground truth logistic function?\n",
    "\n",
    "2. Try using some of the different methods in the [`solve_ivp` documentation](https://docs.scipy.org/doc/scipy/reference/generated/scipy.integrate.solve_ivp.html).  How does your accuracy change in both the Logistic equation and growth equation?"
   ]
  },
  {
   "cell_type": "code",
   "execution_count": null,
   "metadata": {},
   "outputs": [],
   "source": []
  },
  {
   "cell_type": "markdown",
   "metadata": {},
   "source": [
    "## Events\n",
    "\n",
    "You can ask `solve_ivp` to find the location of events. An event is defined as a function `event(t, y)`, and `solve_ivp` will find values of `t` where `event(t,y) = 0`.  For instance, in the zebra growth problem, we might want to find the value of `t` where the number of zebras reaches 100.  We can pass in an event or list of events using the `events` keyword."
   ]
  },
  {
   "cell_type": "code",
   "execution_count": 20,
   "metadata": {},
   "outputs": [
    {
     "data": {
      "image/png": "[encoded data removed]",
      "text/plain": [
       "<Figure size 432x288 with 1 Axes>"
      ]
     },
     "metadata": {
      "needs_background": "light"
     },
     "output_type": "display_data"
    }
   ],
   "source": [
    "import numpy as np\n",
    "import matplotlib.pyplot as plt\n",
    "from scipy.integrate import solve_ivp\n",
    "\n",
    "z0 = np.array([50])\n",
    "alpha = 0.02\n",
    "\n",
    "f = lambda t, z : alpha * z\n",
    "t_span = (0, 100)\n",
    "t_eval = np.linspace(0,100, 200)\n",
    "\n",
    "def zebra100(t, y): \n",
    "    return y - 100\n",
    "\n",
    "sol = solve_ivp(f, t_span, z0, t_eval=t_eval, events=zebra100)\n",
    "    \n",
    "plt.plot(sol.t, sol.y[0], c='k')\n",
    "plt.title(\"The Zebra Problem\")\n",
    "plt.ylabel(\"zebras\")\n",
    "plt.xlabel(\"months\")\n",
    "plt.show()"
   ]
  },
  {
   "cell_type": "markdown",
   "metadata": {},
   "source": [
    "we can access the time at which events occur using the `t_events` field of the solution"
   ]
  },
  {
   "cell_type": "code",
   "execution_count": 21,
   "metadata": {},
   "outputs": [
    {
     "data": {
      "text/plain": [
       "[array([34.65385735])]"
      ]
     },
     "execution_count": 21,
     "metadata": {},
     "output_type": "execute_result"
    }
   ],
   "source": [
    "sol.t_events"
   ]
  },
  {
   "cell_type": "markdown",
   "metadata": {},
   "source": [
    "If you want to end the simulation when an event occurs, you can set a flag `terminal=True`.  You can also specify a direction flag to only trigger an event when the root of the function goes from negative to positive (`direction=1`), or positive to negative (`direction=-1`)"
   ]
  },
  {
   "cell_type": "code",
   "execution_count": 22,
   "metadata": {},
   "outputs": [
    {
     "data": {
      "image/png": "[encoded data removed]",
      "text/plain": [
       "<Figure size 432x288 with 1 Axes>"
      ]
     },
     "metadata": {
      "needs_background": "light"
     },
     "output_type": "display_data"
    }
   ],
   "source": [
    "import numpy as np\n",
    "import matplotlib.pyplot as plt\n",
    "from scipy.integrate import solve_ivp\n",
    "\n",
    "z0 = np.array([50])\n",
    "alpha = 0.02\n",
    "\n",
    "f = lambda t, z : alpha * z\n",
    "t_span = (0, 100)\n",
    "t_eval = np.linspace(0,100, 200)\n",
    "\n",
    "def zebra100(t, y): \n",
    "    return y - 100\n",
    "\n",
    "zebra100.terminal=True # we can set this a flag on the function object\n",
    "zebra100.direction=1\n",
    "\n",
    "sol = solve_ivp(f, t_span, z0, t_eval=t_eval, events=zebra100)\n",
    "    \n",
    "plt.plot(sol.t, sol.y[0], c='k')\n",
    "plt.title(\"The Zebra Problem\")\n",
    "plt.ylabel(\"zebras\")\n",
    "plt.xlabel(\"months\")\n",
    "plt.show()"
   ]
  },
  {
   "cell_type": "code",
   "execution_count": 23,
   "metadata": {},
   "outputs": [
    {
     "data": {
      "text/plain": [
       "[array([34.65385735])]"
      ]
     },
     "execution_count": 23,
     "metadata": {},
     "output_type": "execute_result"
    }
   ],
   "source": [
    "sol.t_events"
   ]
  },
  {
   "cell_type": "code",
   "execution_count": null,
   "metadata": {},
   "outputs": [],
   "source": []
  }
 ],
 "metadata": {
  "kernelspec": {
   "display_name": "Python (pycourse)",
   "language": "python",
   "name": "pycourse"
  },
  "language_info": {
   "codemirror_mode": {
    "name": "ipython",
    "version": 3
   },
   "file_extension": ".py",
   "mimetype": "text/x-python",
   "name": "python",
   "nbconvert_exporter": "python",
   "pygments_lexer": "ipython3",
   "version": "3.8.3"
  }
 },
 "nbformat": 4,
 "nbformat_minor": 4
}
